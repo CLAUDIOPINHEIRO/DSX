{
 "cells": [
  {
   "cell_type": "markdown",
   "metadata": {
    "collapsed": true
   },
   "source": [
    "# Healthcare Python Streaming Application Demo\n",
    "\n",
    "This Python notebook shows how to create an app with Python that ingests and analyzes streaming data from a feed, and then visualizes the data in a notebook. You submit this app to be built in the Streaming Analytics service in IBM Bluemix. \n",
    "\n",
    "To create the app, you use the <a href=\"http://ibmstreams.github.io/streamsx.documentation//docs/python/1.6/python-appapi-devguide/index.html\" target=\"_blank\" rel=\"noopener noreferrer\">IBM Streams Python API</a>. The API is provided in the streamsx package, which is integrated in DSX. You also use the API to access data streams from views defined in the app once it's running on the Streaming Analytics service.\n",
    "\n",
    "The app subscribes to the *ingest-physionet* topic (<a href=\"https://www.physionet.org/\" target=\"_blank\" rel=\"noopener noreferrer\">Physionet database</a>) containing the patient data, performs analysis on the patient data to calculate vital data for all patients, and finally creates a view for displaying the results in this notebook.\n",
    "\n",
    "Submitting the Python app from the notebook to the Streaming Analytics service allows data to be retrieved from the view server. Once the data has been retrieved, it can be analyzed, manipulated, or visualized like any other data accessed from a notebook. In the case of this demo, waveform graphs and numerical widgets display the healthcare data of the patient.\n",
    "\n",
    "This notebook runs in a **Python 3.5** environment. You should be familiar with Python and <a href=\"http://datascience.ibm.com/docs/content/getting-started/quick-overview.html#notebooks\" target=\"_blank\" rel=\"noopener noreferrer\">Jupyter Notebooks</a>. This notebook also assumes that you are familiar with medical terms.\n",
    "\n",
    "**Tip:** If you leave the notebook or the output or prompts are not displayed after running a cell, click **Kernel -> Restart** on the menu bar to rerun the cell.\n",
    "\n",
    "The following diagram outlines the architecture of this demo. This notebook provides a pre-compiled IBM Streams application to simulate patient data, and publish the data to a topic shown in the **Ingest** box. The patient data is submitted to the ingest-physionet topic so that the data feed can be consumed by the app you're going to build later in this notebook. When running the cells of this notebook, you are creating the information shown in the **Analytics** and **Visualization** boxes of the diagram.\n",
    "\n",
    "<img src='https://github.com/IBMStreams/streamsx.health/blob/develop/samples/HealthcareJupyterDemo/images/architecture_diagram.jpg?raw=true' alt=\"Demo Architecture\" title=\"Demo Architecture\"></img>\n",
    "\n",
    "The data shown in the **Ingest** box of the diagram is obtained and processed for you to monitor and analyze the information in the **Visualization** box. The waveform data is shown in the graphs and numerical data is displayed in the black boxes. The **Poincare plot** graph above the black boxes analyzes the interval of the heartbeat's R wave to the next R wave (RR). The R wave is an upward deflection that is easily identified in the ECG. The R peak is the maximum amplitude of the R wave. This data is aggregated and continuously updated using the Streaming Analytics service.  \n",
    "\n",
    "In Python, you can create a view object to connect the Python app to the view server. The **Streams View Server** shown in the **Analytics** box is the view function in the code which defines how Python can receive data from the view server. \n",
    "Each blue box is an operator in a Streams app. The operator then analyzes the data (tuples), sends it to the view server and to the downstream app. As a result, the live stream can be pulled as the data is being analyzed. The up arrow in the diagram indicates notebook requests to connect to the view server to receive data from a particular view. The down arrow retrieves the data to present it in the notebook as rendered graphics or visualizations.\n"
   ]
  },
  {
   "cell_type": "markdown",
   "metadata": {},
   "source": [
    "## Table of contents\n",
    "\n",
    "This notebook is divided into the following parts:\n",
    "\n",
    "[Part 1: Setup](#setup)<br>\n",
    "[Part 2: Create a data feed](#createfeed)<br>\n",
    "[Part 3: Build a streaming app](#buildapp)<br>\n",
    "[Part 4: Visualization](#visualization)<br>\n",
    "[Part 5: Summary and next steps](#summary)<br>"
   ]
  },
  {
   "cell_type": "markdown",
   "metadata": {},
   "source": [
    "<a id=\"setup\"></a>\n",
    "## Part 1: Setup\n",
    "\n",
    "Complete the following steps to set up your DSX environment:\n",
    "\n",
    "[1.1 Install the healthcare demo software package ](#install)<br>\n",
    "[1.2 Start a Streaming Analytics service](#startservice)<br>\n",
    "[1.3 Set up access to the service](#setupservice)<br>\n",
    "\n",
    "\n",
    "<a id=\"install\"></a>\n",
    "### 1.1 Install the healthcare tutorial package\n",
    "\n",
    "Run the following cell to install the latest software that contains Python functions required for this healthcare tutorial.  "
   ]
  },
  {
   "cell_type": "code",
   "execution_count": null,
   "metadata": {
    "collapsed": false,
    "nbpresent": {
     "id": "721305e1-fa39-4010-9eb4-bf155218370c"
    },
    "scrolled": true
   },
   "outputs": [],
   "source": [
    "!pip install --user --upgrade \"git+https://github.com/IBMStreams/streamsx.health.git#egg=healthdemo&subdirectory=samples/HealthcareJupyterDemo/package\""
   ]
  },
  {
   "cell_type": "markdown",
   "metadata": {},
   "source": [
    "<a id=\"startservice\"></a>\n",
    "### 1.2 Start a Streaming Analytics service\n",
    "\n",
    "Open the Bluemix web portal and <a href=\"https://console.ng.bluemix.net/\" target=\"_blank\" rel=\"noopener noreferrer\">log in or sign up for a free Bluemix account</a>.\n",
    "\n",
    "Ensure that your Streaming Analytics service is running in Bluemix.\n",
    "\n",
    "If you don’t have a service, you can create one as follows:  \n",
    "1. Click **Catalog** or **Create Service**, browse for `Streaming Analytics` and then click on it. <br>\n",
    "1. Follow the instructions on the Streaming Analytics catalog page, type the *Service name* to set up your service. \n",
    "<img src='https://github.com/orzade/streamsx-notebooks/blob/master/servicename.png?raw=true' alt=\"Type your service name and click on Create\" title=\"Streaming Analytics catalog - Type your service name\"></img> \n",
    "1. Click **Create** to open the Streaming Analytics service dashboard. Your service starts automatically."
   ]
  },
  {
   "cell_type": "markdown",
   "metadata": {},
   "source": [
    "<a id=\"setupservice\"></a>\n",
    "### 1.3 Set up access to the service\n",
    "\n",
    "You must provide the information that your streaming app needs to access the service.\n",
    "\n",
    "Run the following cell, and enter your service credentials when prompted.\n",
    "\n",
    "**Tip:** \n",
    "- To copy your service credentials, open the Streaming Analytics service dashboard click **Service Credentials**, then **View Credentials**, and finally click the Copy icon and paste your service credentials when prompted.<br>\n",
    "<img src='https://github.com/orzade/streamsx-notebooks/blob/master/copyservicecredentials.png?raw=true' alt=\"Copy your service credentials\" title=\"Streaming Analytics catalog - Copy your service credentials\"></img>\n",
    "<br>\n",
    "- If you are not prompted to enter the service credentials, click **Kernel -> Restart** on the menu bar and rerun the cell."
   ]
  },
  {
   "cell_type": "code",
   "execution_count": null,
   "metadata": {
    "collapsed": false,
    "scrolled": true
   },
   "outputs": [],
   "source": [
    "import json\n",
    "import getpass\n",
    "from streamsx.topology.context import ConfigParams\n",
    "credentials=getpass.getpass('Streaming Analytics credentials:')\n",
    "\n",
    "vs={'streaming-analytics': [{'name': 'Streaming Analytics', 'credentials': json.loads(credentials)}]}\n",
    "config={ConfigParams.VCAP_SERVICES: vs, ConfigParams.SERVICE_NAME: 'Streaming Analytics'}"
   ]
  },
  {
   "cell_type": "markdown",
   "metadata": {},
   "source": [
    "<a id=\"createfeed\"></a>\n",
    "## Part 2: Create a data feed\n",
    "\n",
    "You can now submit the precompiled Physionet microservice to the Streaming Analytics service on IBM Bluemix to create a data feed:\n",
    "\n",
    "1. Download the resources you need from <a href=\"https://github.com/IBMStreams/streamsx.health/releases\" target=\"_blank\" rel=\"noopener noreferrer\">https://github.com/IBMStreams/streamsx.health/releases</a> to build the *PhysionetIngestServiceMulti.sab* application bundle file in your local system.\n",
    "1. Open the **Streams Console** and click on **Submit Job** in the upper left part of the **Application Dashboard**.\n",
    "<img src='https://github.com/orzade/streamsx-notebooks/blob/master/submitjob.png?raw=true' alt=\"Click Submit Job\" title=\"Click Submit Job\"></img>\n",
    "1. On the **Submit Job** view select the application bundle file PhysionetIngestServiceMulti.sab from your local file system and click **Submit** to upload the file.\n",
    "1. On the **Submission-Time Parameters** window set the number of patients to 3 or more in the **Value** field and click **OK**.\n"
   ]
  },
  {
   "cell_type": "markdown",
   "metadata": {
    "nbpresent": {
     "id": "57cc4392-d899-4354-8bbf-45a6322f5efd"
    }
   },
   "source": [
    "<a id=\"buildapp\"></a>\n",
    "## Part 3: Build a streaming app\n",
    "\n",
    "Now you're ready to create the **HealthcareDemo** Python streaming application, and submit it to the Streaming Analytics service, where the app will be remotely built and deployed.\n",
    "\n",
    "The following cell contains source code for the Python Topology application. This is a Python streaming application that ingests the patient data from the *ingest-physionet* topic (<a href=\"https://www.physionet.org/\" target=\"_blank\" rel=\"noopener noreferrer\">Physionet database</a>) and performs analysis on the patient data to calculate vital data for all patients. It finally creates a view for displaying the result of the analysis."
   ]
  },
  {
   "cell_type": "code",
   "execution_count": null,
   "metadata": {
    "collapsed": false,
    "scrolled": true
   },
   "outputs": [],
   "source": [
    "from streamsx.topology import schema\n",
    "from streamsx.topology.topology import Topology\n",
    "from streamsx.topology.context import submit\n",
    "\n",
    "## The healthdemo package provides tools to analyze patient data\n",
    "## See https://github.com/IBMStreams/streamsx.health/tree/develop/samples/HealthcareJupyterDemo/package\n",
    "from healthdemo.patientmonitoring_functions import streaming_rpeak\n",
    "from healthdemo.healthcare_functions import GenTimestamp, aggregate\n",
    "from healthdemo.windows import SlidingWindow\n",
    "\n",
    "topo = Topology('HealthcareDemo')\n",
    "\n",
    "## The ingest-physionet provides data at a rate of 125 tuples/sec\n",
    "sample_rate = 125\n",
    "\n",
    "## Subscribe to the topic\n",
    "patients_data = topo.subscribe('ingest-physionet', schema.CommonSchema.Json)\n",
    "            \n",
    "## Add timestamp to the data, so you can perform windowing\n",
    "patients_data = patients_data.transform(GenTimestamp(sample_rate))\n",
    "\n",
    "## Generate a window based on the provided sample_rate\n",
    "patients_data = patients_data.transform(SlidingWindow(length=sample_rate, trigger=sample_rate-1))\n",
    "\n",
    "## Aggregate the data within the window and create a tuple\n",
    "patients_data = patients_data.transform(aggregate)\n",
    "\n",
    "## Process data from 'ECG Lead II' and calculate RPeak and RR delta\n",
    "patients_data = streaming_rpeak(patients_data, sample_rate, data_label='ECG Lead II')\n",
    "\n",
    "## Create view for viewing patient vital data\n",
    "patients_vital = patients_data.view(name='patients_vital')\n",
    "\n",
    "rc = submit('STREAMING_ANALYTICS_SERVICE', topo, config)\n",
    "print (\"DONE\")"
   ]
  },
  {
   "cell_type": "markdown",
   "metadata": {},
   "source": [
    "<a id=\"visualization\"></a>\n",
    "## Part 4: Visualization\n",
    "\n",
    "Complete the following steps to visualize the results of your app:\n",
    "\n",
    "[4.1 Setup graphs for plotting patient vitals](#setupgraphs)<br>\n",
    "[4.2 Provide data for the graphs](#providedata)<br>\n",
    "[4.3 Display the graphs](#displaygraphs)<br>\n",
    "\n",
    "<a id=\"setupgraphs\"></a>\n",
    "### 4.1 Setup graphs for plotting patient vitals\n",
    "\n",
    "This cell initializes the nine graphs which will be used to display one patient's vital data.\n",
    "\n",
    "Each property of the patient's vital data is identified by the signal label. Each graph is initialized by providing the signal label it plots and a title."
   ]
  },
  {
   "cell_type": "code",
   "execution_count": null,
   "metadata": {
    "collapsed": true
   },
   "outputs": [],
   "source": [
    "from healthdemo.medgraphs import ECGGraph, PoincareGraph, NumericText, ABPNumericText\n",
    "\n",
    "## Select which patient's data to plot\n",
    "patientId = 'patient-1'\n",
    "\n",
    "graph = {\n",
    "    'leadII_poincare': PoincareGraph(signal_label='Poincare - ECG Lead II', title='Poincare - ECG Lead II'),\n",
    "    'ecg_leadII_graph': ECGGraph(signal_label='ECG Lead II', title='ECG Lead II', \n",
    "                                 plot_width=600, min_range=-0.5, max_range=2.0),\n",
    "    'ecg_leadV_graph': ECGGraph(signal_label='ECG Lead V', title='ECG Lead V', plot_width=600),\n",
    "    'resp_graph': ECGGraph(signal_label='Resp', title='Resp', min_range=-1, max_range=3, plot_width=600),\n",
    "    'pleth_graph': ECGGraph(signal_label='Pleth', title='Pleth', min_range=0, max_range=5, plot_width=600),\n",
    "    'hr_numeric': NumericText(signal_label='HR', title='HR', color='#7cc7ff'),\n",
    "    'pulse_numeric': NumericText(signal_label='PULSE', title='PULSE', color='#e71d32'),\n",
    "    'spo2_numeric': NumericText(signal_label='SpO2', title='SpO2', color='#8cd211'),\n",
    "    'abp_numeric': ABPNumericText(abp_sys_label='ABP Systolic', abp_dia_label='ABP Diastolic', \n",
    "                                  title='ABP', color='#fdd600')            \n",
    "}"
   ]
  },
  {
   "cell_type": "markdown",
   "metadata": {},
   "source": [
    "There is no output data displayed here."
   ]
  },
  {
   "cell_type": "markdown",
   "metadata": {},
   "source": [
    "<a id=\"providedata\"></a>\n",
    "### 4.2 Provide data for the graphs\n",
    "\n",
    "This cell is responsible for propagating the graph objects with data in the view.\n",
    "\n",
    "The view data contains vital data for all patients, and is continuously retrieved from the Streaming Analytics service in a background job.  Each graph object receives data for a specified patient. The graph objects extract and store the data that is relevant for that particular graph."
   ]
  },
  {
   "cell_type": "code",
   "execution_count": null,
   "metadata": {
    "collapsed": false,
    "nbpresent": {
     "id": "b72a8e1e-e623-4d76-8251-76680be593ee"
    }
   },
   "outputs": [],
   "source": [
    "from healthdemo.utils import get_patient_id\n",
    "\n",
    "## load BokehJS visualization library (must be loaded in a separate cell)\n",
    "from bokeh.io import output_notebook, push_notebook\n",
    "from bokeh.resources import INLINE\n",
    "output_notebook(resources=INLINE)\n",
    "%autosave 0\n",
    "%reload_ext autoreload\n",
    "%autoreload 1\n",
    "\n",
    "continue_data_collection = True\n",
    "\n",
    "## retrieve data from Streams view in a background job\n",
    "def data_collector(view, g):\n",
    "    queue = view.start_data_fetch()\n",
    "    while continue_data_collection:\n",
    "        tup = queue.get()\n",
    "        if patientId == get_patient_id(tup):\n",
    "            for graphtype in g:\n",
    "                g[graphtype].add(tup)\n",
    "    view.stop_data_fetch()\n",
    "            \n",
    "from IPython.lib import backgroundjobs as bg\n",
    "jobs = bg.BackgroundJobManager()\n",
    "jobs.new(data_collector, patients_vital, graph)"
   ]
  },
  {
   "cell_type": "markdown",
   "metadata": {
    "nbpresent": {
     "id": "a6e444c6-cd12-436d-94a4-410e8fce7fd3"
    }
   },
   "source": [
    "<a id=\"displaygraphs\"></a>\n",
    "### 4.3 Display the graphs\n",
    "\n",
    "This cell is responsible for laying out and displaying the graphs. \n",
    "\n",
    "Each time a call to ```update()``` is made on a graph object, the next data point is retrieved and displayed. Each graph object maintains an internal queue so that each time a call to ```update()``` is made, the next element in the queue is retrieved and removed.\n",
    "\n",
    "There is a loop that continuously calls the ```update()``` method on each of the graphs for 60 seconds. After each graph has been updated, a call to ```push_notebook()``` is made, which causes the notebook to update the graphics."
   ]
  },
  {
   "cell_type": "code",
   "execution_count": null,
   "metadata": {
    "collapsed": false,
    "nbpresent": {
     "id": "a39590c1-697b-49cc-aecb-37c5afe939ed"
    },
    "scrolled": true
   },
   "outputs": [],
   "source": [
    "import time\n",
    "from bokeh.io import show\n",
    "from bokeh.layouts import column, row, widgetbox\n",
    "\n",
    "## display graphs for a patient\n",
    "show(\n",
    "    row(\n",
    "        column(\n",
    "            graph['ecg_leadII_graph'].get_figure(), \n",
    "            graph['ecg_leadV_graph'].get_figure(), \n",
    "            graph['resp_graph'].get_figure(),\n",
    "            graph['pleth_graph'].get_figure()\n",
    "        ), \n",
    "        column(\n",
    "            graph['leadII_poincare'].get_figure(),\n",
    "            widgetbox(graph['hr_numeric'].get_figure()),\n",
    "            widgetbox(graph['pulse_numeric'].get_figure()),\n",
    "            widgetbox(graph['spo2_numeric'].get_figure()),\n",
    "            widgetbox(graph['abp_numeric'].get_figure())\n",
    "        )\n",
    "    ),\n",
    "    \n",
    "    # If using bokeh > 0.12.2, uncomment the following statement\n",
    "    #notebook_handle=True\n",
    ")\n",
    "\n",
    "## Timeout(in seconds) before stopping the graph\n",
    "timeout = 60\n",
    "endtime = time.time() + timeout\n",
    "\n",
    "cnt = 0\n",
    "while time.time() < endtime:\n",
    "    ## update graphs\n",
    "    for graphtype in graph:\n",
    "        graph[graphtype].update()\n",
    "\n",
    "    ## update notebook \n",
    "    cnt += 1\n",
    "    if cnt % 5 == 0:\n",
    "        push_notebook() ## refresh the graphs\n",
    "        cnt = 0\n",
    "    time.sleep(0.008)\n",
    "    \n",
    "# Stop data collection running in background thread\n",
    "continue_data_collection = False"
   ]
  },
  {
   "cell_type": "markdown",
   "metadata": {
    "collapsed": true
   },
   "source": [
    "To plot the graph for a different patient, change `patientId` in [4.1 Setup graphs for plotting patient vitals](#setupgraphs), and rerun the cells."
   ]
  },
  {
   "cell_type": "markdown",
   "metadata": {
    "collapsed": true
   },
   "source": [
    "<a id=\"summary\"></a>\n",
    "## Part 5: Summary and next steps\n",
    "\n",
    "You learned how to create an app with Python that ingests and analyzes streaming data from a feed, and then visualizes the data in the notebook. You submitted this app to be built in the Streaming Analytics service in Bluemix.\n",
    "\n",
    "Check out other notebooks in this series:\n",
    "\n",
    " - <a href=\"https://apsportal.ibm.com/exchange/public/entry/view/9fc33ce7301f10e21a9f92039ca9c6e8\" target=\"_blank\" rel=\"noopener noreferrer\">Build a Python app on the Streaming Analytics service</a> \n",
    " - <a href=\"https://apsportal.ibm.com/exchange/public/entry/view/9fc33ce7301f10e21a9f92039ca60bb7\" target=\"_blank\" rel=\"noopener noreferrer\">Build and use a data model in real time with the Python API</a> \n",
    "\n",
    "Dig deeper:\n",
    "\n",
    "* <a href=\"http://ibmstreams.github.io/streamsx.documentation/docs/latest/python/python-appapi-devguide/#developing-ibm-streams-applications-with-python\" target=\"_blank\" rel=\"noopener noreferrer\">Developing IBM Streams applications with Python</a> \n",
    "* <a href=\"https://www.ibm.com/support/knowledgecenter/SSCRJU/SSCRJU_welcome.html\" target=\"_blank\" rel=\"noopener noreferrer\">IBM Streams documentation</a> \n",
    "* <a href=\"https://github.com/IBMStreams/streamsx.health/tree/develop/samples/HealthcareJupyterDemo/package\" target=\"_blank\" rel=\"noopener noreferrer\">IBM streamsx.health healthdemo</a> \n",
    "\n",
    "\n",
    "### Authors\n",
    "\n",
    "James Cancilla is a software developer who specializes in streaming technology and cloud solutions.<br/>\n",
    "Kendrick Wong is a software developer who specializes in streaming technology and cloud solutions.\n",
    "\n",
    "\n",
    "Copyright © 2017 IBM. This notebook and its source code are released under the terms of the MIT License."
   ]
  }
 ],
 "metadata": {
  "anaconda-cloud": {},
  "kernelspec": {
   "display_name": "Python 3.5 (Experimental) with Spark 2.0",
   "language": "python",
   "name": "python3-spark20"
  },
  "language_info": {
   "codemirror_mode": {
    "name": "ipython",
    "version": 3
   },
   "file_extension": ".py",
   "mimetype": "text/x-python",
   "name": "python",
   "nbconvert_exporter": "python",
   "pygments_lexer": "ipython3",
   "version": "3.5.2"
  },
  "nbpresent": {
   "slides": {},
   "themes": {
    "default": "577e4657-0ca5-402b-869f-f2a36c2257ab",
    "theme": {
     "577e4657-0ca5-402b-869f-f2a36c2257ab": {
      "backgrounds": {
       "dc7afa04-bf90-40b1-82a5-726e3cff5267": {
        "background-color": "31af15d2-7e15-44c5-ab5e-e04b16a89eff",
        "id": "dc7afa04-bf90-40b1-82a5-726e3cff5267"
       }
      },
      "id": "577e4657-0ca5-402b-869f-f2a36c2257ab",
      "palette": {
       "19cc588f-0593-49c9-9f4b-e4d7cc113b1c": {
        "id": "19cc588f-0593-49c9-9f4b-e4d7cc113b1c",
        "rgb": [
         252,
         252,
         252
        ]
       },
       "31af15d2-7e15-44c5-ab5e-e04b16a89eff": {
        "id": "31af15d2-7e15-44c5-ab5e-e04b16a89eff",
        "rgb": [
         68,
         68,
         68
        ]
       },
       "50f92c45-a630-455b-aec3-788680ec7410": {
        "id": "50f92c45-a630-455b-aec3-788680ec7410",
        "rgb": [
         197,
         226,
         245
        ]
       },
       "c5cc3653-2ee1-402a-aba2-7caae1da4f6c": {
        "id": "c5cc3653-2ee1-402a-aba2-7caae1da4f6c",
        "rgb": [
         43,
         126,
         184
        ]
       },
       "efa7f048-9acb-414c-8b04-a26811511a21": {
        "id": "efa7f048-9acb-414c-8b04-a26811511a21",
        "rgb": [
         25.118061674008803,
         73.60176211453744,
         107.4819383259912
        ]
       }
      },
      "rules": {
       "a": {
        "color": "19cc588f-0593-49c9-9f4b-e4d7cc113b1c"
       },
       "blockquote": {
        "color": "50f92c45-a630-455b-aec3-788680ec7410",
        "font-size": 3
       },
       "code": {
        "font-family": "Anonymous Pro"
       },
       "h1": {
        "color": "19cc588f-0593-49c9-9f4b-e4d7cc113b1c",
        "font-family": "Merriweather",
        "font-size": 8
       },
       "h2": {
        "color": "19cc588f-0593-49c9-9f4b-e4d7cc113b1c",
        "font-family": "Merriweather",
        "font-size": 6
       },
       "h3": {
        "color": "50f92c45-a630-455b-aec3-788680ec7410",
        "font-family": "Lato",
        "font-size": 5.5
       },
       "h4": {
        "color": "c5cc3653-2ee1-402a-aba2-7caae1da4f6c",
        "font-family": "Lato",
        "font-size": 5
       },
       "h5": {
        "font-family": "Lato"
       },
       "h6": {
        "font-family": "Lato"
       },
       "h7": {
        "font-family": "Lato"
       },
       "li": {
        "color": "50f92c45-a630-455b-aec3-788680ec7410",
        "font-size": 3.25
       },
       "pre": {
        "font-family": "Anonymous Pro",
        "font-size": 4
       }
      },
      "text-base": {
       "color": "19cc588f-0593-49c9-9f4b-e4d7cc113b1c",
       "font-family": "Lato",
       "font-size": 4
      }
     }
    }
   }
  }
 },
 "nbformat": 4,
 "nbformat_minor": 0
}