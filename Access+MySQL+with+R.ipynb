{
 "cells": [
  {
   "cell_type": "markdown",
   "metadata": {},
   "source": [
    "# Access MySQL with R\n",
    "\n",
    "This notebook shows how to access a MySQL database when using R.\n",
    "\n",
    "## Table of contents\n",
    "\n",
    "1. [Setup](#Setup)\n",
    "1. [Import the *RMySQL* library](#Import-the-RMySQL-library)\n",
    "1. [Confirm that MySQL is running](#Confirm-that-MySQL-is-running)\n",
    "1. [Identify and enter the database connection credentials](#Identify-and-enter-the-database-connection-credentials)\n",
    "1. [Create the database connection](#Create-the-database-connection)\n",
    "1. [Create a table](#Create-a-table)\n",
    "1. [Insert data into a table](#Insert-data-into-a-table)\n",
    "1. [Query data](#Query-data)\n",
    "1. [Close the database connection](#Close-the-database-connection)\n",
    "1. [Summary](#Summary)\n",
    "\n",
    "\n",
    "\n",
    "## Setup\n",
    "\n",
    "Before beginning you will need access to a *MySQL* database. MySQL is an open-source relational database management system (RDBMS) that is widely used as a client–server model RDBMS. To learn more, see the [MySQL website](https://www.mysql.com/).\n",
    "\n",
    "You should have a MySQL instance installed and running in the cloud. You can use [Amazon RDS (Relational Database Service)](http://aws.amazon.com/rds/mysql/) to set up, operate, and scale a MySQL instance.  \n",
    "__Note:__ if you are using an Amazon RDS service, make sure it accept connections from every IP.\n",
    "\n",
    "\n",
    "## Import the RMySQL library\n",
    "\n",
    "__RMySQL__ is the R package that enables you to interact with MySQL (and MariaDB) databases. Run the commands below to install and import the RMySQL package:"
   ]
  },
  {
   "cell_type": "code",
   "execution_count": null,
   "metadata": {
    "collapsed": false
   },
   "outputs": [],
   "source": [
    "install.packages(\"RMySQL\")"
   ]
  },
  {
   "cell_type": "code",
   "execution_count": null,
   "metadata": {
    "collapsed": false
   },
   "outputs": [],
   "source": [
    "library(RMySQL)"
   ]
  },
  {
   "cell_type": "markdown",
   "metadata": {},
   "source": [
    "## Confirm that MySQL is running\n",
    "\n",
    "You can test to see if MySQL is installed by opening your terminal and typing “mysql”. If you receive an error that MySQL cannot connect, it means that MySQL is installed, but not running."
   ]
  },
  {
   "cell_type": "markdown",
   "metadata": {
    "collapsed": false
   },
   "source": [
    "## Identify and enter the database connection credentials\n",
    "\n",
    "Connecting to MySQL database requires the following information:\n",
    "* Database name \n",
    "* Host DNS name or IP address \n",
    "* Host port\n",
    "* User ID\n",
    "* User password\n",
    "\n",
    "All of this information must be captured in a connection string in a subsequent step. Provide the MySQL connection information as shown:"
   ]
  },
  {
   "cell_type": "code",
   "execution_count": null,
   "metadata": {
    "collapsed": true
   },
   "outputs": [],
   "source": [
    "#Enter the values for you database connection\n",
    "dsn_database = \"<your database name>\"     # for example  \"BLUDB\"\n",
    "dsn_hostname = \"<your host name>\" # for example  \"mydbinstance.cz6pjylrdjko.us-east-1.rds.amazonaws.com\"\n",
    "dsn_port = <your port>                # for example  3306 without quotation marks\n",
    "dsn_uid = \"<your user name>\"        # for example  \"user1\"\n",
    "dsn_pwd = \"<your password\"      # for example  \"7dBZ3jWt9xN6$o0JiX!m\""
   ]
  },
  {
   "cell_type": "markdown",
   "metadata": {},
   "source": [
    "## Create the database connection\n",
    "\n",
    "The following code snippet creates a connection object, `conn`:"
   ]
  },
  {
   "cell_type": "code",
   "execution_count": null,
   "metadata": {
    "collapsed": false
   },
   "outputs": [],
   "source": [
    "conn = dbConnect(MySQL(), user=dsn_uid, password=dsn_pwd, dbname=dsn_database, host=dsn_hostname)\n",
    "conn"
   ]
  },
  {
   "cell_type": "markdown",
   "metadata": {},
   "source": [
    "## Create a table\n",
    "\n",
    "Create a test table named Cars. The code below drops the Cars table if it already exists, and then creates the new table:"
   ]
  },
  {
   "cell_type": "code",
   "execution_count": null,
   "metadata": {
    "collapsed": false
   },
   "outputs": [],
   "source": [
    "dbSendQuery(conn, 'DROP TABLE IF EXISTS Cars')\n",
    "dbSendQuery(conn, 'CREATE TABLE Cars(Id INTEGER PRIMARY KEY, Name VARCHAR(20), Price INT)')"
   ]
  },
  {
   "cell_type": "markdown",
   "metadata": {},
   "source": [
    "## Insert data into a table\n",
    "\n",
    "Run the following commands to create records in the new Cars table:"
   ]
  },
  {
   "cell_type": "code",
   "execution_count": null,
   "metadata": {
    "collapsed": false
   },
   "outputs": [],
   "source": [
    "dbSendQuery(conn,\"INSERT INTO Cars VALUES(1,'Audi',52642)\")\n",
    "dbSendQuery(conn,\"INSERT INTO Cars VALUES(2,'Mercedes',57127)\")\n",
    "dbSendQuery(conn,\"INSERT INTO Cars VALUES(3,'Skoda',9000)\")\n",
    "dbSendQuery(conn,\"INSERT INTO Cars VALUES(4,'Volvo',29000)\")\n",
    "dbSendQuery(conn,\"INSERT INTO Cars VALUES(5,'Bentley',350000)\")\n",
    "dbSendQuery(conn,\"INSERT INTO Cars VALUES(6,'Citroen',21000)\")\n",
    "dbSendQuery(conn,\"INSERT INTO Cars VALUES(7,'Hummer',41400)\")\n",
    "dbSendQuery(conn,\"INSERT INTO Cars VALUES(8,'Volkswagen',21600)\")"
   ]
  },
  {
   "cell_type": "markdown",
   "metadata": {},
   "source": [
    "## Query data\n",
    "\n",
    "You can now use the connection object `conn` to query the database:"
   ]
  },
  {
   "cell_type": "code",
   "execution_count": null,
   "metadata": {
    "collapsed": false
   },
   "outputs": [],
   "source": [
    "query = \"SELECT * FROM Cars\";\n",
    "rs = dbSendQuery(conn, query);\n",
    "df = fetch(rs, -1);\n",
    "df"
   ]
  },
  {
   "cell_type": "markdown",
   "metadata": {},
   "source": [
    "## Close the database connection\n",
    "\n",
    "It is good practice to close your database connection after work is done:"
   ]
  },
  {
   "cell_type": "code",
   "execution_count": null,
   "metadata": {
    "collapsed": false
   },
   "outputs": [],
   "source": [
    "dbDisconnect(conn)"
   ]
  },
  {
   "cell_type": "markdown",
   "metadata": {},
   "source": [
    "## Summary\n",
    "\n",
    "This notebook demonstrated how to establish a connection to a MySQL database from R using the RMySQL library."
   ]
  },
  {
   "cell_type": "markdown",
   "metadata": {},
   "source": [
    "## Want to learn more?\n",
    "### Free courses on <a href=\"https://bigdatauniversity.com/courses/?utm_source=tutorial-dashdb-python&utm_medium=github&utm_campaign=bdu/\" rel=\"noopener noreferrer\" target=\"_blank\">Big Data University</a>: <a href=\"https://bigdatauniversity.com/courses/?utm_source=tutorial-dashdb-python&utm_medium=github&utm_campaign=bdu\" rel=\"noopener noreferrer\" target=\"_blank\"><img src = \"https://ibm.box.com/shared/static/xomeu7dacwufkoawbg3owc8wzuezltn6.png\" width=600px> </a>"
   ]
  },
  {
   "cell_type": "markdown",
   "metadata": {},
   "source": [
    "### Authors\n",
    "\n",
    "**Saeed Aghabozorgi**, PhD, is a Data Scientist in IBM with a track record of developing enterprise-level applications that substantially increases clients' ability to turn data into actionable knowledge. He is a researcher in the data mining field and an expert in developing advanced analytic methods like machine learning and statistical modelling on large data sets.\n",
    "\n",
    "**Polong Lin** is a Data Scientist at IBM in Canada. Under the Emerging Technologies division, Polong is responsible for educating the next generation of data scientists through Big Data University. Polong is a regular speaker in conferences and meetups, and holds an M.Sc. in Cognitive Psychology."
   ]
  },
  {
   "cell_type": "markdown",
   "metadata": {},
   "source": [
    "Copyright © 2016 Big Data University. This notebook and its source code are released under the terms of the <a href=\"https://bigdatauniversity.com/mit-license/\" rel=\"noopener noreferrer\" target=\"_blank\">MIT License</a>."
   ]
  }
 ],
 "metadata": {
  "kernelspec": {
   "display_name": "R with Spark 1.6",
   "language": "R",
   "name": "r"
  },
  "language_info": {
   "codemirror_mode": "r",
   "file_extension": ".r",
   "mimetype": "text/x-r-source",
   "name": "R",
   "pygments_lexer": "r",
   "version": "3.3.2"
  }
 },
 "nbformat": 4,
 "nbformat_minor": 0
}