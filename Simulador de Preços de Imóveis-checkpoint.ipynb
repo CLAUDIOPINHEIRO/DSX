{
 "cells": [
  {
   "cell_type": "code",
   "execution_count": 1,
   "metadata": {
    "collapsed": false,
    "deletable": true,
    "editable": true
   },
   "outputs": [],
   "source": [
    "import ipywidgets as widgets\n",
    "from ipywidgets import interact, interactive, fixed\n",
    "from IPython.display import display\n",
    "from math import log"
   ]
  },
  {
   "cell_type": "code",
   "execution_count": 36,
   "metadata": {
    "collapsed": false,
    "deletable": true,
    "editable": true
   },
   "outputs": [],
   "source": [
    "def calcula_preco(area = \"168\",\n",
    "idade_aparente = \"2\",\n",
    "andar = 9,\n",
    "suites = \"1\",\n",
    "dist_beira_mar = \"150\",\n",
    "sem_ruido = \"1\",\n",
    "av_200m = \"100\"):\n",
    "    \n",
    "    area = float(area)\n",
    "    idade_aparente = float(idade_aparente)\n",
    "    andar = float(andar)\n",
    "    suites = float(suites)\n",
    "    dist_beira_mar = float(dist_beira_mar)\n",
    "    sem_ruido = float(sem_ruido)\n",
    "    av_200m = float(av_200m)\n",
    "    \n",
    "    valor = 31231 + 798.34 * area - 6705.6 * log(idade_aparente) - 45897 / andar + \\\n",
    "    53.005 * suites - 15.982 * dist_beira_mar - 21969 / sem_ruido - 11769 / av_200m\n",
    "\n",
    "    print(\"VALOR: R$ %.4f\" % valor)\n"
   ]
  },
  {
   "cell_type": "markdown",
   "metadata": {},
   "source": [
    "# Simulador de Valor\n",
    "\n",
    "Preencha as variáveis no simulador para obter o valor estimado do imóvel."
   ]
  },
  {
   "cell_type": "code",
   "execution_count": 42,
   "metadata": {
    "collapsed": false
   },
   "outputs": [
    {
     "data": {
      "application/vnd.jupyter.widget-view+json": {
       "model_id": "535852cc5bdb4248a20cf971bfff82a1"
      }
     },
     "metadata": {},
     "output_type": "display_data"
    }
   ],
   "source": [
    "w = interact(calcula_preco, andar=(1,30), idade_aparente=(0.1,50.0))"
   ]
  }
 ],
 "metadata": {
  "kernelspec": {
   "display_name": "Python 3",
   "language": "python",
   "name": "python3"
  },
  "language_info": {
   "codemirror_mode": {
    "name": "ipython",
    "version": 3
   },
   "file_extension": ".py",
   "mimetype": "text/x-python",
   "name": "python",
   "nbconvert_exporter": "python",
   "pygments_lexer": "ipython3",
   "version": "3.5.3"
  }
 },
 "nbformat": 4,
 "nbformat_minor": 2
}
