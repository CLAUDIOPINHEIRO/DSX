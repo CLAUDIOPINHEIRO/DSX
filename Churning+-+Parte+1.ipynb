{
 "cells": [
  {
   "cell_type": "markdown",
   "metadata": {},
   "source": [
    "# Prevendo evasão (churning) usando scikit-learn  "
   ]
  },
  {
   "cell_type": "markdown",
   "metadata": {},
   "source": [
    "Olá a todos novamente.\n",
    "\n",
    "  Hoje vou tentar fazer uma introdução a biblioteca [scikit-learn](http://scikit-learn.org/stable/) de Python. Se você procurar no Google \"machine learning library\" imagino que esse vai ser o primeiro resultado. E não é atôa, o scikit é fácil de usar, extramente completo e com muito material na internet.\n",
    "  \n",
    "  Para exemplificar os principais pontos da biblioteca vamos fazer uma análise de evasão (churning). \n",
    "  \n",
    "  Mas \"Senhor Mendes\", o que é churning?\n",
    "  \n",
    "  ![Senta que lá vem história](http://stream1.gifsoup.com/view7/2597592/senta-que-la-vem-a-historia-o.gif \"Senta que lá vem história\")\n",
    "  <p style=\"text-align: center;\"> ( Me desculpe se você não pegou essa referência, provavelmente você é novo demais ou velho demais ) </p>\n",
    "\n",
    "## Churning\n",
    "\n",
    "A palavra *churning* em inglês possui vários significados:\n",
    " - Agitar leite em uma máquina para produzir manteiga\n",
    " - Mover algo com muita força\n",
    " \n",
    "Mas a definição que queremos hoje é a de **evasão**, no caso, evasão de clientes. É bem simples: uma empresa tem (normalmente) muitos clientes, por algum motivo, alguns desses clientes querem abandonar a empresa/produto. Esses clientes estão evadindo, e isso normalmente gera uma diminuição no lucro da empresa e ninguém gosta de perder dinheiro não é mesmo?\n",
    "\n",
    " \n",
    "O objetivo de uma análise de evasão é tentar entender os motivos dessa saída do cliente, falamos um pouco sobre isso no post sobre [Análise de Sobrevivência](http://developers.hekima.com/statiscs/studies/2016/05/09/survival-analysis/).\n",
    "\n",
    "No post de hoje vamos tentar **prever** quais clientes vão abandonar a empresa/produto, sabendo disso a empresa poderia entrar em contato com cliente oferecendo um novo plano ou um [BB-8 de controle remoto.](http://store.sphero.com/products/bb-8-by-sphero) (quem não quer um BB-8 de controle remoto?)\n",
    "\n",
    "## Hora de programar\n",
    "\n",
    "![Programandog](http://i.myniceprofile.com/1408/140865.gif \"Programandog\")\n",
    "\n",
    "**Dados**: Vamos utilizar uma base de dados de churning comum na internet, você pode baixar o csv [AQUI](https://s3.amazonaws.com/zahpee-public/churn.csv).\n",
    "\n",
    "Novamente, estou utilizando o [Jupyter Notebook](https://ipython.org/notebook.html) (antigo IPython Notebook) para escrever o post e fazer toda programação, você pode baixar o arquivo [AQUI](https://s3.amazonaws.com/zahpee-public/churn.ipynb) e rodar em seu computador."
   ]
  },
  {
   "cell_type": "code",
   "execution_count": 1,
   "metadata": {
    "collapsed": false
   },
   "outputs": [
    {
     "name": "stdout",
     "output_type": "stream",
     "text": [
      "Amostra dos dados\n"
     ]
    },
    {
     "data": {
      "text/html": [
       "<div>\n",
       "<table border=\"1\" class=\"dataframe\">\n",
       "  <thead>\n",
       "    <tr style=\"text-align: right;\">\n",
       "      <th></th>\n",
       "      <th>State</th>\n",
       "      <th>Account Length</th>\n",
       "      <th>Area Code</th>\n",
       "      <th>Phone</th>\n",
       "      <th>Int'l Plan</th>\n",
       "      <th>VMail Plan</th>\n",
       "      <th>VMail Message</th>\n",
       "      <th>Day Mins</th>\n",
       "      <th>Day Calls</th>\n",
       "      <th>Day Charge</th>\n",
       "      <th>...</th>\n",
       "      <th>Eve Calls</th>\n",
       "      <th>Eve Charge</th>\n",
       "      <th>Night Mins</th>\n",
       "      <th>Night Calls</th>\n",
       "      <th>Night Charge</th>\n",
       "      <th>Intl Mins</th>\n",
       "      <th>Intl Calls</th>\n",
       "      <th>Intl Charge</th>\n",
       "      <th>CustServ Calls</th>\n",
       "      <th>Churn?</th>\n",
       "    </tr>\n",
       "  </thead>\n",
       "  <tbody>\n",
       "    <tr>\n",
       "      <th>0</th>\n",
       "      <td>KS</td>\n",
       "      <td>128</td>\n",
       "      <td>415</td>\n",
       "      <td>382-4657</td>\n",
       "      <td>no</td>\n",
       "      <td>yes</td>\n",
       "      <td>25</td>\n",
       "      <td>265.1</td>\n",
       "      <td>110</td>\n",
       "      <td>45.07</td>\n",
       "      <td>...</td>\n",
       "      <td>99</td>\n",
       "      <td>16.78</td>\n",
       "      <td>244.7</td>\n",
       "      <td>91</td>\n",
       "      <td>11.01</td>\n",
       "      <td>10.0</td>\n",
       "      <td>3</td>\n",
       "      <td>2.70</td>\n",
       "      <td>1</td>\n",
       "      <td>False.</td>\n",
       "    </tr>\n",
       "    <tr>\n",
       "      <th>1</th>\n",
       "      <td>OH</td>\n",
       "      <td>107</td>\n",
       "      <td>415</td>\n",
       "      <td>371-7191</td>\n",
       "      <td>no</td>\n",
       "      <td>yes</td>\n",
       "      <td>26</td>\n",
       "      <td>161.6</td>\n",
       "      <td>123</td>\n",
       "      <td>27.47</td>\n",
       "      <td>...</td>\n",
       "      <td>103</td>\n",
       "      <td>16.62</td>\n",
       "      <td>254.4</td>\n",
       "      <td>103</td>\n",
       "      <td>11.45</td>\n",
       "      <td>13.7</td>\n",
       "      <td>3</td>\n",
       "      <td>3.70</td>\n",
       "      <td>1</td>\n",
       "      <td>False.</td>\n",
       "    </tr>\n",
       "    <tr>\n",
       "      <th>2</th>\n",
       "      <td>NJ</td>\n",
       "      <td>137</td>\n",
       "      <td>415</td>\n",
       "      <td>358-1921</td>\n",
       "      <td>no</td>\n",
       "      <td>no</td>\n",
       "      <td>0</td>\n",
       "      <td>243.4</td>\n",
       "      <td>114</td>\n",
       "      <td>41.38</td>\n",
       "      <td>...</td>\n",
       "      <td>110</td>\n",
       "      <td>10.30</td>\n",
       "      <td>162.6</td>\n",
       "      <td>104</td>\n",
       "      <td>7.32</td>\n",
       "      <td>12.2</td>\n",
       "      <td>5</td>\n",
       "      <td>3.29</td>\n",
       "      <td>0</td>\n",
       "      <td>False.</td>\n",
       "    </tr>\n",
       "    <tr>\n",
       "      <th>3</th>\n",
       "      <td>OH</td>\n",
       "      <td>84</td>\n",
       "      <td>408</td>\n",
       "      <td>375-9999</td>\n",
       "      <td>yes</td>\n",
       "      <td>no</td>\n",
       "      <td>0</td>\n",
       "      <td>299.4</td>\n",
       "      <td>71</td>\n",
       "      <td>50.90</td>\n",
       "      <td>...</td>\n",
       "      <td>88</td>\n",
       "      <td>5.26</td>\n",
       "      <td>196.9</td>\n",
       "      <td>89</td>\n",
       "      <td>8.86</td>\n",
       "      <td>6.6</td>\n",
       "      <td>7</td>\n",
       "      <td>1.78</td>\n",
       "      <td>2</td>\n",
       "      <td>False.</td>\n",
       "    </tr>\n",
       "    <tr>\n",
       "      <th>4</th>\n",
       "      <td>OK</td>\n",
       "      <td>75</td>\n",
       "      <td>415</td>\n",
       "      <td>330-6626</td>\n",
       "      <td>yes</td>\n",
       "      <td>no</td>\n",
       "      <td>0</td>\n",
       "      <td>166.7</td>\n",
       "      <td>113</td>\n",
       "      <td>28.34</td>\n",
       "      <td>...</td>\n",
       "      <td>122</td>\n",
       "      <td>12.61</td>\n",
       "      <td>186.9</td>\n",
       "      <td>121</td>\n",
       "      <td>8.41</td>\n",
       "      <td>10.1</td>\n",
       "      <td>3</td>\n",
       "      <td>2.73</td>\n",
       "      <td>3</td>\n",
       "      <td>False.</td>\n",
       "    </tr>\n",
       "  </tbody>\n",
       "</table>\n",
       "<p>5 rows × 21 columns</p>\n",
       "</div>"
      ],
      "text/plain": [
       "  State  Account Length  Area Code     Phone Int'l Plan VMail Plan  \\\n",
       "0    KS             128        415  382-4657         no        yes   \n",
       "1    OH             107        415  371-7191         no        yes   \n",
       "2    NJ             137        415  358-1921         no         no   \n",
       "3    OH              84        408  375-9999        yes         no   \n",
       "4    OK              75        415  330-6626        yes         no   \n",
       "\n",
       "   VMail Message  Day Mins  Day Calls  Day Charge   ...    Eve Calls  \\\n",
       "0             25     265.1        110       45.07   ...           99   \n",
       "1             26     161.6        123       27.47   ...          103   \n",
       "2              0     243.4        114       41.38   ...          110   \n",
       "3              0     299.4         71       50.90   ...           88   \n",
       "4              0     166.7        113       28.34   ...          122   \n",
       "\n",
       "   Eve Charge  Night Mins  Night Calls  Night Charge  Intl Mins  Intl Calls  \\\n",
       "0       16.78       244.7           91         11.01       10.0           3   \n",
       "1       16.62       254.4          103         11.45       13.7           3   \n",
       "2       10.30       162.6          104          7.32       12.2           5   \n",
       "3        5.26       196.9           89          8.86        6.6           7   \n",
       "4       12.61       186.9          121          8.41       10.1           3   \n",
       "\n",
       "   Intl Charge  CustServ Calls  Churn?  \n",
       "0         2.70               1  False.  \n",
       "1         3.70               1  False.  \n",
       "2         3.29               0  False.  \n",
       "3         1.78               2  False.  \n",
       "4         2.73               3  False.  \n",
       "\n",
       "[5 rows x 21 columns]"
      ]
     },
     "execution_count": 1,
     "metadata": {},
     "output_type": "execute_result"
    }
   ],
   "source": [
    "from __future__ import division\n",
    "import pandas as pd\n",
    "import numpy as np\n",
    "\n",
    "# Primeiro, vamos ler o csv usando a biblioteca pandas.\n",
    "df_churn = pd.read_csv('churn.csv')\n",
    "\n",
    "# Agora vamos ver como se parecem esses dados.\n",
    "print 'Amostra dos dados'\n",
    "df_churn.head()     "
   ]
  },
  {
   "cell_type": "markdown",
   "metadata": {},
   "source": [
    "![pandas](http://orig13.deviantart.net/2884/f/2012/266/1/7/free_panda_icon__2__by_makorralover827-d5fma94.gif)\n",
    "\n",
    "Utilizamos no código acima a biblioteca [pandas](http://pandas.pydata.org/), lemos o csv e passamos para um dataframe.\n",
    "\n",
    "## Pré-processamento dos dados\n",
    "\n",
    "Antes de trabalhar com essa matriz, vamos limpar um pouco os dados que parecem ter o mesmo significado ou que não vale a pena usar.\n",
    "\n",
    "Os campos de \"Phone\" e \"Area Code\" podem ser removidos da matriz."
   ]
  },
  {
   "cell_type": "code",
   "execution_count": 2,
   "metadata": {
    "collapsed": false
   },
   "outputs": [],
   "source": [
    "df_churn.drop(['Area Code','Phone'], axis=1, inplace=True)"
   ]
  },
  {
   "cell_type": "markdown",
   "metadata": {},
   "source": [
    "Agora vamos separar a resposta em um vetor, além disso, vamos transformar o \"True\" para 1 e o \"False\" para 0.\n",
    "\n",
    "Depois disso vamos remover a resposta do dataframe com os dados e visualizar o vetor de resposta e a tabela resultante.\n"
   ]
  },
  {
   "cell_type": "code",
   "execution_count": 3,
   "metadata": {
    "collapsed": false
   },
   "outputs": [
    {
     "name": "stdout",
     "output_type": "stream",
     "text": [
      "[0 0 0 ..., 0 0 0]\n"
     ]
    },
    {
     "data": {
      "text/html": [
       "<div>\n",
       "<table border=\"1\" class=\"dataframe\">\n",
       "  <thead>\n",
       "    <tr style=\"text-align: right;\">\n",
       "      <th></th>\n",
       "      <th>State</th>\n",
       "      <th>Account Length</th>\n",
       "      <th>Int'l Plan</th>\n",
       "      <th>VMail Plan</th>\n",
       "      <th>VMail Message</th>\n",
       "      <th>Day Mins</th>\n",
       "      <th>Day Calls</th>\n",
       "      <th>Day Charge</th>\n",
       "      <th>Eve Mins</th>\n",
       "      <th>Eve Calls</th>\n",
       "      <th>Eve Charge</th>\n",
       "      <th>Night Mins</th>\n",
       "      <th>Night Calls</th>\n",
       "      <th>Night Charge</th>\n",
       "      <th>Intl Mins</th>\n",
       "      <th>Intl Calls</th>\n",
       "      <th>Intl Charge</th>\n",
       "      <th>CustServ Calls</th>\n",
       "    </tr>\n",
       "  </thead>\n",
       "  <tbody>\n",
       "    <tr>\n",
       "      <th>0</th>\n",
       "      <td>KS</td>\n",
       "      <td>128</td>\n",
       "      <td>no</td>\n",
       "      <td>yes</td>\n",
       "      <td>25</td>\n",
       "      <td>265.1</td>\n",
       "      <td>110</td>\n",
       "      <td>45.07</td>\n",
       "      <td>197.4</td>\n",
       "      <td>99</td>\n",
       "      <td>16.78</td>\n",
       "      <td>244.7</td>\n",
       "      <td>91</td>\n",
       "      <td>11.01</td>\n",
       "      <td>10.0</td>\n",
       "      <td>3</td>\n",
       "      <td>2.70</td>\n",
       "      <td>1</td>\n",
       "    </tr>\n",
       "    <tr>\n",
       "      <th>1</th>\n",
       "      <td>OH</td>\n",
       "      <td>107</td>\n",
       "      <td>no</td>\n",
       "      <td>yes</td>\n",
       "      <td>26</td>\n",
       "      <td>161.6</td>\n",
       "      <td>123</td>\n",
       "      <td>27.47</td>\n",
       "      <td>195.5</td>\n",
       "      <td>103</td>\n",
       "      <td>16.62</td>\n",
       "      <td>254.4</td>\n",
       "      <td>103</td>\n",
       "      <td>11.45</td>\n",
       "      <td>13.7</td>\n",
       "      <td>3</td>\n",
       "      <td>3.70</td>\n",
       "      <td>1</td>\n",
       "    </tr>\n",
       "    <tr>\n",
       "      <th>2</th>\n",
       "      <td>NJ</td>\n",
       "      <td>137</td>\n",
       "      <td>no</td>\n",
       "      <td>no</td>\n",
       "      <td>0</td>\n",
       "      <td>243.4</td>\n",
       "      <td>114</td>\n",
       "      <td>41.38</td>\n",
       "      <td>121.2</td>\n",
       "      <td>110</td>\n",
       "      <td>10.30</td>\n",
       "      <td>162.6</td>\n",
       "      <td>104</td>\n",
       "      <td>7.32</td>\n",
       "      <td>12.2</td>\n",
       "      <td>5</td>\n",
       "      <td>3.29</td>\n",
       "      <td>0</td>\n",
       "    </tr>\n",
       "    <tr>\n",
       "      <th>3</th>\n",
       "      <td>OH</td>\n",
       "      <td>84</td>\n",
       "      <td>yes</td>\n",
       "      <td>no</td>\n",
       "      <td>0</td>\n",
       "      <td>299.4</td>\n",
       "      <td>71</td>\n",
       "      <td>50.90</td>\n",
       "      <td>61.9</td>\n",
       "      <td>88</td>\n",
       "      <td>5.26</td>\n",
       "      <td>196.9</td>\n",
       "      <td>89</td>\n",
       "      <td>8.86</td>\n",
       "      <td>6.6</td>\n",
       "      <td>7</td>\n",
       "      <td>1.78</td>\n",
       "      <td>2</td>\n",
       "    </tr>\n",
       "    <tr>\n",
       "      <th>4</th>\n",
       "      <td>OK</td>\n",
       "      <td>75</td>\n",
       "      <td>yes</td>\n",
       "      <td>no</td>\n",
       "      <td>0</td>\n",
       "      <td>166.7</td>\n",
       "      <td>113</td>\n",
       "      <td>28.34</td>\n",
       "      <td>148.3</td>\n",
       "      <td>122</td>\n",
       "      <td>12.61</td>\n",
       "      <td>186.9</td>\n",
       "      <td>121</td>\n",
       "      <td>8.41</td>\n",
       "      <td>10.1</td>\n",
       "      <td>3</td>\n",
       "      <td>2.73</td>\n",
       "      <td>3</td>\n",
       "    </tr>\n",
       "  </tbody>\n",
       "</table>\n",
       "</div>"
      ],
      "text/plain": [
       "  State  Account Length Int'l Plan VMail Plan  VMail Message  Day Mins  \\\n",
       "0    KS             128         no        yes             25     265.1   \n",
       "1    OH             107         no        yes             26     161.6   \n",
       "2    NJ             137         no         no              0     243.4   \n",
       "3    OH              84        yes         no              0     299.4   \n",
       "4    OK              75        yes         no              0     166.7   \n",
       "\n",
       "   Day Calls  Day Charge  Eve Mins  Eve Calls  Eve Charge  Night Mins  \\\n",
       "0        110       45.07     197.4         99       16.78       244.7   \n",
       "1        123       27.47     195.5        103       16.62       254.4   \n",
       "2        114       41.38     121.2        110       10.30       162.6   \n",
       "3         71       50.90      61.9         88        5.26       196.9   \n",
       "4        113       28.34     148.3        122       12.61       186.9   \n",
       "\n",
       "   Night Calls  Night Charge  Intl Mins  Intl Calls  Intl Charge  \\\n",
       "0           91         11.01       10.0           3         2.70   \n",
       "1          103         11.45       13.7           3         3.70   \n",
       "2          104          7.32       12.2           5         3.29   \n",
       "3           89          8.86        6.6           7         1.78   \n",
       "4          121          8.41       10.1           3         2.73   \n",
       "\n",
       "   CustServ Calls  \n",
       "0               1  \n",
       "1               1  \n",
       "2               0  \n",
       "3               2  \n",
       "4               3  "
      ]
     },
     "execution_count": 3,
     "metadata": {},
     "output_type": "execute_result"
    }
   ],
   "source": [
    "# adiciona uma nova coluna chamada \"Churn\" com valores booleanos\n",
    "df_churn['Churn'] = df_churn['Churn?'] == 'True.'\n",
    "\n",
    "# Vamos criar um vetor de resposta y trasnformando os booleanos em 0 e 1\n",
    "y = df_churn['Churn'].as_matrix().astype(np.int)\n",
    "\n",
    "# agora vamos remover as colunas Churn e Churn? de nosso dataframe\n",
    "df_churn.drop(['Churn','Churn?'], axis=1, inplace=True)\n",
    "\n",
    "# Vamos ver como estão nosso dados\n",
    "print str(y) # deve ser composto de 0s e 1s\n",
    "df_churn.head()"
   ]
  },
  {
   "cell_type": "markdown",
   "metadata": {},
   "source": [
    "Ainda temos algumas colunas que são *labels* e algumas que são *booleans*. Vamos repetir o processo do campo \"Churn\" para \"Int'l Plan\" e \"VMail Plan\" e transformar \"yes\" em 1 e no em 0."
   ]
  },
  {
   "cell_type": "code",
   "execution_count": 4,
   "metadata": {
    "collapsed": false
   },
   "outputs": [
    {
     "data": {
      "text/html": [
       "<div>\n",
       "<table border=\"1\" class=\"dataframe\">\n",
       "  <thead>\n",
       "    <tr style=\"text-align: right;\">\n",
       "      <th></th>\n",
       "      <th>State</th>\n",
       "      <th>Account Length</th>\n",
       "      <th>Int'l Plan</th>\n",
       "      <th>VMail Plan</th>\n",
       "      <th>VMail Message</th>\n",
       "      <th>Day Mins</th>\n",
       "      <th>Day Calls</th>\n",
       "      <th>Day Charge</th>\n",
       "      <th>Eve Mins</th>\n",
       "      <th>Eve Calls</th>\n",
       "      <th>Eve Charge</th>\n",
       "      <th>Night Mins</th>\n",
       "      <th>Night Calls</th>\n",
       "      <th>Night Charge</th>\n",
       "      <th>Intl Mins</th>\n",
       "      <th>Intl Calls</th>\n",
       "      <th>Intl Charge</th>\n",
       "      <th>CustServ Calls</th>\n",
       "    </tr>\n",
       "  </thead>\n",
       "  <tbody>\n",
       "    <tr>\n",
       "      <th>0</th>\n",
       "      <td>KS</td>\n",
       "      <td>128</td>\n",
       "      <td>0</td>\n",
       "      <td>1</td>\n",
       "      <td>25</td>\n",
       "      <td>265.1</td>\n",
       "      <td>110</td>\n",
       "      <td>45.07</td>\n",
       "      <td>197.4</td>\n",
       "      <td>99</td>\n",
       "      <td>16.78</td>\n",
       "      <td>244.7</td>\n",
       "      <td>91</td>\n",
       "      <td>11.01</td>\n",
       "      <td>10.0</td>\n",
       "      <td>3</td>\n",
       "      <td>2.70</td>\n",
       "      <td>1</td>\n",
       "    </tr>\n",
       "    <tr>\n",
       "      <th>1</th>\n",
       "      <td>OH</td>\n",
       "      <td>107</td>\n",
       "      <td>0</td>\n",
       "      <td>1</td>\n",
       "      <td>26</td>\n",
       "      <td>161.6</td>\n",
       "      <td>123</td>\n",
       "      <td>27.47</td>\n",
       "      <td>195.5</td>\n",
       "      <td>103</td>\n",
       "      <td>16.62</td>\n",
       "      <td>254.4</td>\n",
       "      <td>103</td>\n",
       "      <td>11.45</td>\n",
       "      <td>13.7</td>\n",
       "      <td>3</td>\n",
       "      <td>3.70</td>\n",
       "      <td>1</td>\n",
       "    </tr>\n",
       "    <tr>\n",
       "      <th>2</th>\n",
       "      <td>NJ</td>\n",
       "      <td>137</td>\n",
       "      <td>0</td>\n",
       "      <td>0</td>\n",
       "      <td>0</td>\n",
       "      <td>243.4</td>\n",
       "      <td>114</td>\n",
       "      <td>41.38</td>\n",
       "      <td>121.2</td>\n",
       "      <td>110</td>\n",
       "      <td>10.30</td>\n",
       "      <td>162.6</td>\n",
       "      <td>104</td>\n",
       "      <td>7.32</td>\n",
       "      <td>12.2</td>\n",
       "      <td>5</td>\n",
       "      <td>3.29</td>\n",
       "      <td>0</td>\n",
       "    </tr>\n",
       "    <tr>\n",
       "      <th>3</th>\n",
       "      <td>OH</td>\n",
       "      <td>84</td>\n",
       "      <td>1</td>\n",
       "      <td>0</td>\n",
       "      <td>0</td>\n",
       "      <td>299.4</td>\n",
       "      <td>71</td>\n",
       "      <td>50.90</td>\n",
       "      <td>61.9</td>\n",
       "      <td>88</td>\n",
       "      <td>5.26</td>\n",
       "      <td>196.9</td>\n",
       "      <td>89</td>\n",
       "      <td>8.86</td>\n",
       "      <td>6.6</td>\n",
       "      <td>7</td>\n",
       "      <td>1.78</td>\n",
       "      <td>2</td>\n",
       "    </tr>\n",
       "    <tr>\n",
       "      <th>4</th>\n",
       "      <td>OK</td>\n",
       "      <td>75</td>\n",
       "      <td>1</td>\n",
       "      <td>0</td>\n",
       "      <td>0</td>\n",
       "      <td>166.7</td>\n",
       "      <td>113</td>\n",
       "      <td>28.34</td>\n",
       "      <td>148.3</td>\n",
       "      <td>122</td>\n",
       "      <td>12.61</td>\n",
       "      <td>186.9</td>\n",
       "      <td>121</td>\n",
       "      <td>8.41</td>\n",
       "      <td>10.1</td>\n",
       "      <td>3</td>\n",
       "      <td>2.73</td>\n",
       "      <td>3</td>\n",
       "    </tr>\n",
       "  </tbody>\n",
       "</table>\n",
       "</div>"
      ],
      "text/plain": [
       "  State  Account Length  Int'l Plan  VMail Plan  VMail Message  Day Mins  \\\n",
       "0    KS             128           0           1             25     265.1   \n",
       "1    OH             107           0           1             26     161.6   \n",
       "2    NJ             137           0           0              0     243.4   \n",
       "3    OH              84           1           0              0     299.4   \n",
       "4    OK              75           1           0              0     166.7   \n",
       "\n",
       "   Day Calls  Day Charge  Eve Mins  Eve Calls  Eve Charge  Night Mins  \\\n",
       "0        110       45.07     197.4         99       16.78       244.7   \n",
       "1        123       27.47     195.5        103       16.62       254.4   \n",
       "2        114       41.38     121.2        110       10.30       162.6   \n",
       "3         71       50.90      61.9         88        5.26       196.9   \n",
       "4        113       28.34     148.3        122       12.61       186.9   \n",
       "\n",
       "   Night Calls  Night Charge  Intl Mins  Intl Calls  Intl Charge  \\\n",
       "0           91         11.01       10.0           3         2.70   \n",
       "1          103         11.45       13.7           3         3.70   \n",
       "2          104          7.32       12.2           5         3.29   \n",
       "3           89          8.86        6.6           7         1.78   \n",
       "4          121          8.41       10.1           3         2.73   \n",
       "\n",
       "   CustServ Calls  \n",
       "0               1  \n",
       "1               1  \n",
       "2               0  \n",
       "3               2  \n",
       "4               3  "
      ]
     },
     "execution_count": 4,
     "metadata": {},
     "output_type": "execute_result"
    }
   ],
   "source": [
    "yes_or_no = [\"Int'l Plan\",\"VMail Plan\"]\n",
    "df_churn[yes_or_no] = df_churn[yes_or_no] == 'yes'\n",
    "df_churn[yes_or_no] = df_churn[yes_or_no].astype(np.int) \n",
    "df_churn.head()"
   ]
  },
  {
   "cell_type": "markdown",
   "metadata": {},
   "source": [
    "Agora, vamos lidar com o campo \"State\", ele possui valores em formato de string, vamos transformar em números. Para isso podemos usar o [LabelEnconder](http://scikit-learn.org/stable/modules/generated/sklearn.preprocessing.LabelEncoder.html) da biblioteca sklearn."
   ]
  },
  {
   "cell_type": "code",
   "execution_count": 5,
   "metadata": {
    "collapsed": false
   },
   "outputs": [
    {
     "name": "stdout",
     "output_type": "stream",
     "text": [
      "Labels\n",
      "['AK', 'AL', 'AR', 'AZ', 'CA', 'CO', 'CT', 'DC', 'DE', 'FL', 'GA', 'HI', 'IA', 'ID', 'IL', 'IN', 'KS', 'KY', 'LA', 'MA', 'MD', 'ME', 'MI', 'MN', 'MO', 'MS', 'MT', 'NC', 'ND', 'NE', 'NH', 'NJ', 'NM', 'NV', 'NY', 'OH', 'OK', 'OR', 'PA', 'RI', 'SC', 'SD', 'TN', 'TX', 'UT', 'VA', 'VT', 'WA', 'WI', 'WV', 'WY']\n",
      "\n",
      "Número para label\n",
      "['KS', 'OH', 'NJ']\n"
     ]
    },
    {
     "data": {
      "text/html": [
       "<div>\n",
       "<table border=\"1\" class=\"dataframe\">\n",
       "  <thead>\n",
       "    <tr style=\"text-align: right;\">\n",
       "      <th></th>\n",
       "      <th>State</th>\n",
       "      <th>Account Length</th>\n",
       "      <th>Int'l Plan</th>\n",
       "      <th>VMail Plan</th>\n",
       "      <th>VMail Message</th>\n",
       "      <th>Day Mins</th>\n",
       "      <th>Day Calls</th>\n",
       "      <th>Day Charge</th>\n",
       "      <th>Eve Mins</th>\n",
       "      <th>Eve Calls</th>\n",
       "      <th>Eve Charge</th>\n",
       "      <th>Night Mins</th>\n",
       "      <th>Night Calls</th>\n",
       "      <th>Night Charge</th>\n",
       "      <th>Intl Mins</th>\n",
       "      <th>Intl Calls</th>\n",
       "      <th>Intl Charge</th>\n",
       "      <th>CustServ Calls</th>\n",
       "    </tr>\n",
       "  </thead>\n",
       "  <tbody>\n",
       "    <tr>\n",
       "      <th>0</th>\n",
       "      <td>16</td>\n",
       "      <td>128</td>\n",
       "      <td>0</td>\n",
       "      <td>1</td>\n",
       "      <td>25</td>\n",
       "      <td>265.1</td>\n",
       "      <td>110</td>\n",
       "      <td>45.07</td>\n",
       "      <td>197.4</td>\n",
       "      <td>99</td>\n",
       "      <td>16.78</td>\n",
       "      <td>244.7</td>\n",
       "      <td>91</td>\n",
       "      <td>11.01</td>\n",
       "      <td>10.0</td>\n",
       "      <td>3</td>\n",
       "      <td>2.70</td>\n",
       "      <td>1</td>\n",
       "    </tr>\n",
       "    <tr>\n",
       "      <th>1</th>\n",
       "      <td>35</td>\n",
       "      <td>107</td>\n",
       "      <td>0</td>\n",
       "      <td>1</td>\n",
       "      <td>26</td>\n",
       "      <td>161.6</td>\n",
       "      <td>123</td>\n",
       "      <td>27.47</td>\n",
       "      <td>195.5</td>\n",
       "      <td>103</td>\n",
       "      <td>16.62</td>\n",
       "      <td>254.4</td>\n",
       "      <td>103</td>\n",
       "      <td>11.45</td>\n",
       "      <td>13.7</td>\n",
       "      <td>3</td>\n",
       "      <td>3.70</td>\n",
       "      <td>1</td>\n",
       "    </tr>\n",
       "    <tr>\n",
       "      <th>2</th>\n",
       "      <td>31</td>\n",
       "      <td>137</td>\n",
       "      <td>0</td>\n",
       "      <td>0</td>\n",
       "      <td>0</td>\n",
       "      <td>243.4</td>\n",
       "      <td>114</td>\n",
       "      <td>41.38</td>\n",
       "      <td>121.2</td>\n",
       "      <td>110</td>\n",
       "      <td>10.30</td>\n",
       "      <td>162.6</td>\n",
       "      <td>104</td>\n",
       "      <td>7.32</td>\n",
       "      <td>12.2</td>\n",
       "      <td>5</td>\n",
       "      <td>3.29</td>\n",
       "      <td>0</td>\n",
       "    </tr>\n",
       "    <tr>\n",
       "      <th>3</th>\n",
       "      <td>35</td>\n",
       "      <td>84</td>\n",
       "      <td>1</td>\n",
       "      <td>0</td>\n",
       "      <td>0</td>\n",
       "      <td>299.4</td>\n",
       "      <td>71</td>\n",
       "      <td>50.90</td>\n",
       "      <td>61.9</td>\n",
       "      <td>88</td>\n",
       "      <td>5.26</td>\n",
       "      <td>196.9</td>\n",
       "      <td>89</td>\n",
       "      <td>8.86</td>\n",
       "      <td>6.6</td>\n",
       "      <td>7</td>\n",
       "      <td>1.78</td>\n",
       "      <td>2</td>\n",
       "    </tr>\n",
       "    <tr>\n",
       "      <th>4</th>\n",
       "      <td>36</td>\n",
       "      <td>75</td>\n",
       "      <td>1</td>\n",
       "      <td>0</td>\n",
       "      <td>0</td>\n",
       "      <td>166.7</td>\n",
       "      <td>113</td>\n",
       "      <td>28.34</td>\n",
       "      <td>148.3</td>\n",
       "      <td>122</td>\n",
       "      <td>12.61</td>\n",
       "      <td>186.9</td>\n",
       "      <td>121</td>\n",
       "      <td>8.41</td>\n",
       "      <td>10.1</td>\n",
       "      <td>3</td>\n",
       "      <td>2.73</td>\n",
       "      <td>3</td>\n",
       "    </tr>\n",
       "  </tbody>\n",
       "</table>\n",
       "</div>"
      ],
      "text/plain": [
       "   State  Account Length  Int'l Plan  VMail Plan  VMail Message  Day Mins  \\\n",
       "0     16             128           0           1             25     265.1   \n",
       "1     35             107           0           1             26     161.6   \n",
       "2     31             137           0           0              0     243.4   \n",
       "3     35              84           1           0              0     299.4   \n",
       "4     36              75           1           0              0     166.7   \n",
       "\n",
       "   Day Calls  Day Charge  Eve Mins  Eve Calls  Eve Charge  Night Mins  \\\n",
       "0        110       45.07     197.4         99       16.78       244.7   \n",
       "1        123       27.47     195.5        103       16.62       254.4   \n",
       "2        114       41.38     121.2        110       10.30       162.6   \n",
       "3         71       50.90      61.9         88        5.26       196.9   \n",
       "4        113       28.34     148.3        122       12.61       186.9   \n",
       "\n",
       "   Night Calls  Night Charge  Intl Mins  Intl Calls  Intl Charge  \\\n",
       "0           91         11.01       10.0           3         2.70   \n",
       "1          103         11.45       13.7           3         3.70   \n",
       "2          104          7.32       12.2           5         3.29   \n",
       "3           89          8.86        6.6           7         1.78   \n",
       "4          121          8.41       10.1           3         2.73   \n",
       "\n",
       "   CustServ Calls  \n",
       "0               1  \n",
       "1               1  \n",
       "2               0  \n",
       "3               2  \n",
       "4               3  "
      ]
     },
     "execution_count": 5,
     "metadata": {},
     "output_type": "execute_result"
    }
   ],
   "source": [
    "from sklearn import preprocessing\n",
    "\n",
    "# primeiro vamos criar um label encoder\n",
    "le_state = preprocessing.LabelEncoder()\n",
    "\n",
    "#agora vamos passar a coluna State\n",
    "le_state.fit(df_churn['State'])\n",
    "\n",
    "print 'Labels'\n",
    "print str(list(le_state.classes_))\n",
    "\n",
    "df_churn['State'] = le_state.transform(df_churn['State'])\n",
    "\n",
    "#podemos também sair do valor numerico e chegar na label\n",
    "print '\\nNúmero para label'\n",
    "print(list(le_state.inverse_transform([16, 35, 31])))\n",
    "\n",
    "df_churn.head()"
   ]
  },
  {
   "cell_type": "markdown",
   "metadata": {},
   "source": [
    "Vamos então dar uma olhada como os valores dessa tabela se comportam? \n",
    "\n",
    "Primeiro, vamos ver a média, mediana, variância e o desvio padrão de alguns campos."
   ]
  },
  {
   "cell_type": "code",
   "execution_count": 6,
   "metadata": {
    "collapsed": false
   },
   "outputs": [
    {
     "name": "stdout",
     "output_type": "stream",
     "text": [
      "Account Length\n",
      "Média:101.064806481\n",
      "Mediana:101.0\n",
      "Variância:1585.80012059\n",
      "Desvio Padrão:39.8221059286\n",
      "\n",
      "\n",
      "Day Mins\n",
      "Média:179.77509751\n",
      "Mediana:179.4\n",
      "Variância:2966.69648652\n",
      "Desvio Padrão:54.4673892024\n",
      "\n",
      "\n",
      "Day Calls\n",
      "Média:100.435643564\n",
      "Mediana:101.0\n",
      "Variância:402.76814092\n",
      "Desvio Padrão:20.0690842073\n",
      "\n",
      "\n",
      "Day Charge\n",
      "Média:30.5623072307\n",
      "Mediana:30.5\n",
      "Variância:85.7371282585\n",
      "Desvio Padrão:9.25943455393\n",
      "\n",
      "\n",
      "Intl Calls\n",
      "Média:4.47944794479\n",
      "Mediana:4.0\n",
      "Variância:6.05757568554\n",
      "Desvio Padrão:2.46121427055\n",
      "\n",
      "\n",
      "CustServ Calls\n",
      "Média:1.56285628563\n",
      "Mediana:1.0\n",
      "Variância:1.73051668912\n",
      "Desvio Padrão:1.31549104487\n",
      "\n",
      "\n"
     ]
    }
   ],
   "source": [
    "# Primeiro vamos pegar os nomes das colunas\n",
    "col_names = ['Account Length','Day Mins','Day Calls','Day Charge','Intl Calls', 'CustServ Calls']\n",
    "\n",
    "# Agora vamos mostrar a média\n",
    "for name in col_names:\n",
    "    print name\n",
    "    print 'Média:' + str(df_churn[name].mean())\n",
    "    print 'Mediana:' + str(df_churn[name].median())\n",
    "    print 'Variância:' + str(df_churn[name].var())\n",
    "    print 'Desvio Padrão:' + str(df_churn[name].std())\n",
    "    print '\\n'"
   ]
  },
  {
   "cell_type": "markdown",
   "metadata": {},
   "source": [
    "E vamos analisar um pouco as entradas booleanas.\n"
   ]
  },
  {
   "cell_type": "code",
   "execution_count": 7,
   "metadata": {
    "collapsed": false
   },
   "outputs": [
    {
     "name": "stdout",
     "output_type": "stream",
     "text": [
      "Total de usuários: 3333\n",
      "\n",
      "\n",
      "Int'l Plan\n",
      "Soma: 323\n",
      "Percentual: 0.0969096909691\n",
      "\n",
      "\n",
      "VMail Plan\n",
      "Soma: 922\n",
      "Percentual: 0.276627662766\n",
      "\n",
      "\n"
     ]
    }
   ],
   "source": [
    "bool_fields = ['Int\\'l Plan','VMail Plan']\n",
    "\n",
    "# Agora vamos mostrar a somatoria\n",
    "print 'Total de usuários: ' + str(len(df_churn['VMail Plan']))\n",
    "print '\\n'\n",
    "for name in bool_fields:\n",
    "    print name\n",
    "    print 'Soma: ' + str(df_churn[name].sum())\n",
    "    print 'Percentual: ' + str(df_churn[name].sum()/len(df_churn[name]))\n",
    "    print '\\n'"
   ]
  },
  {
   "cell_type": "markdown",
   "metadata": {},
   "source": [
    "Vamos olhar outro dado importante.\n",
    "\n",
    "Quantos casos de churning temos nesses 3333 usuários."
   ]
  },
  {
   "cell_type": "code",
   "execution_count": 8,
   "metadata": {
    "collapsed": false,
    "scrolled": true
   },
   "outputs": [
    {
     "name": "stdout",
     "output_type": "stream",
     "text": [
      "Número total de usuários: 3333\n",
      "Quantidade de churn: 483\n",
      "Percentual de churn: 0.144914491449\n"
     ]
    }
   ],
   "source": [
    "print('Número total de usuários: {}'.format(y.shape[0]))\n",
    "print('Quantidade de churn: {}'.format(y.sum()))\n",
    "print('Percentual de churn: {}'.format(y.sum()/y.shape[0]))"
   ]
  },
  {
   "cell_type": "markdown",
   "metadata": {},
   "source": [
    "Temos então 14.4% de casos de churning dentro dos nossos 3333 usuários observados."
   ]
  },
  {
   "cell_type": "markdown",
   "metadata": {},
   "source": [
    "O próximo passo para \"melhorar\" nossa entrada é dimensionar os valores das entradas para que todos fiquem entrem mais próximos, dado que alguns valores estão de 1 a 5 e outros podem variar de 100 a 1000. Para isso utilizaremos o [StandardScaler](http://scikit-learn.org/stable/modules/generated/sklearn.preprocessing.StandardScaler.html#sklearn.preprocessing.StandardScaler)."
   ]
  },
  {
   "cell_type": "code",
   "execution_count": 9,
   "metadata": {
    "collapsed": false
   },
   "outputs": [
    {
     "name": "stdout",
     "output_type": "stream",
     "text": [
      "X antes de dimensionar\n",
      "\n",
      "   State  Account Length  Int'l Plan  VMail Plan  VMail Message  Day Mins  \\\n",
      "0     16             128           0           1             25     265.1   \n",
      "1     35             107           0           1             26     161.6   \n",
      "2     31             137           0           0              0     243.4   \n",
      "3     35              84           1           0              0     299.4   \n",
      "4     36              75           1           0              0     166.7   \n",
      "\n",
      "   Day Calls  Day Charge  Eve Mins  Eve Calls  Eve Charge  Night Mins  \\\n",
      "0        110       45.07     197.4         99       16.78       244.7   \n",
      "1        123       27.47     195.5        103       16.62       254.4   \n",
      "2        114       41.38     121.2        110       10.30       162.6   \n",
      "3         71       50.90      61.9         88        5.26       196.9   \n",
      "4        113       28.34     148.3        122       12.61       186.9   \n",
      "\n",
      "   Night Calls  Night Charge  Intl Mins  Intl Calls  Intl Charge  \\\n",
      "0           91         11.01       10.0           3         2.70   \n",
      "1          103         11.45       13.7           3         3.70   \n",
      "2          104          7.32       12.2           5         3.29   \n",
      "3           89          8.86        6.6           7         1.78   \n",
      "4          121          8.41       10.1           3         2.73   \n",
      "\n",
      "   CustServ Calls  \n",
      "0               1  \n",
      "1               1  \n",
      "2               0  \n",
      "3               2  \n",
      "4               3  \n",
      "\n",
      "Valores depois do StandardScaler\n",
      "\n",
      "[[-0.6786493   0.67648946 -0.32758048 ..., -0.60119509 -0.0856905\n",
      "  -0.42793202]\n",
      " [ 0.6031696   0.14906505 -0.32758048 ..., -0.60119509  1.2411686\n",
      "  -0.42793202]\n",
      " [ 0.33331299  0.9025285  -0.32758048 ...,  0.21153386  0.69715637\n",
      "  -1.1882185 ]\n",
      " ..., \n",
      " [ 0.87302621 -1.83505538 -0.32758048 ...,  0.61789834  1.3871231\n",
      "   0.33235445]\n",
      " [-1.35329082  2.08295458  3.05268496 ...,  2.24335625 -1.87695028\n",
      "   0.33235445]\n",
      " [ 1.07541867 -0.67974475 -0.32758048 ..., -0.19483061  1.2411686\n",
      "  -1.1882185 ]]\n"
     ]
    }
   ],
   "source": [
    "from sklearn.preprocessing import StandardScaler\n",
    "scaler = StandardScaler()\n",
    "\n",
    "print 'X antes de dimensionar\\n'\n",
    "print str(df_churn.head())\n",
    "\n",
    "X = scaler.fit_transform(df_churn)\n",
    "\n",
    "print '\\nValores depois do StandardScaler\\n'\n",
    "print str(X)"
   ]
  },
  {
   "cell_type": "markdown",
   "metadata": {},
   "source": [
    "## Avaliando o modelo (Matriz de Confusão e métricas de sucesso)\n",
    "\n",
    "Agora vamos definir nossa função para avaliar o modelo, faremos um [cross-validation](https://en.wikipedia.org/wiki/Cross-validation_(statistics)), nesse caso vou utilizar o [StratifiedKFold](http://scikit-learn.org/stable/modules/generated/sklearn.cross_validation.StratifiedKFold.html) já que existe um desbalanceamento de classes.\n",
    "\n",
    "O StratifiedKFold mantém esse percentual de cada classe nos folds gerados, impedindo que tenhamos pouquíssimos ou nenhum caso de evasão em algum dos folds."
   ]
  },
  {
   "cell_type": "markdown",
   "metadata": {},
   "source": [
    "Além disso, vamos criar uma função que desenha a [Matriz de Confusão](https://en.wikipedia.org/wiki/Confusion_matrix)."
   ]
  },
  {
   "cell_type": "code",
   "execution_count": 10,
   "metadata": {
    "collapsed": true
   },
   "outputs": [],
   "source": [
    "from sklearn import cross_validation\n",
    "\n",
    "# função que realiza a divisão de folds e retorna o y previsto\n",
    "def stratified_cv(X, y, clf_class, shuffle=True, n_folds=10, **kwargs):\n",
    "    stratified_k_fold = cross_validation.StratifiedKFold(y, n_folds=n_folds, shuffle=shuffle, random_state=12)\n",
    "    y_pred = y.copy()\n",
    "    for ii, jj in stratified_k_fold:\n",
    "        X_train, X_test = X[ii], X[jj]\n",
    "        y_train = y[ii]\n",
    "        clf = clf_class(**kwargs)\n",
    "        clf.fit(X_train,y_train)\n",
    "        y_pred[jj] = clf.predict(X_test)\n",
    "    return y_pred"
   ]
  },
  {
   "cell_type": "code",
   "execution_count": 11,
   "metadata": {
    "collapsed": false
   },
   "outputs": [],
   "source": [
    "import pylab as pl\n",
    "import matplotlib.pyplot as plt\n",
    "\n",
    "%matplotlib inline\n",
    "\n",
    "def plot_confusion_matrix(cm, title='Confusion matrix', cmap=plt.cm.Blues):\n",
    "    plt.imshow(cm, interpolation='nearest', cmap=cmap)\n",
    "    plt.title(title)\n",
    "    plt.colorbar()    \n",
    "    plt.tight_layout()\n",
    "    plt.ylabel('True label')\n",
    "    plt.xlabel('Predicted label')\n",
    "    plt.show"
   ]
  },
  {
   "cell_type": "code",
   "execution_count": 13,
   "metadata": {
    "collapsed": false
   },
   "outputs": [
    {
     "name": "stdout",
     "output_type": "stream",
     "text": [
      "Acurácia do modelo: 0.940894089409\n",
      "F1 do modelo: 0.760048721072\n",
      "\n",
      "Matriz de confusão\n",
      "[[2824   26]\n",
      " [ 171  312]]\n",
      "\n",
      "Matriz de confusão normalizada\n",
      "[[ 0.99087719  0.00912281]\n",
      " [ 0.35403727  0.64596273]]"
     ]
    },
    {
     "name": "stderr",
     "output_type": "stream",
     "text": [
      "/usr/local/lib/python2.7/dist-packages/numpy/core/fromnumeric.py:2652: VisibleDeprecationWarning: `rank` is deprecated; use the `ndim` attribute or function instead. To find the rank of a matrix see `numpy.linalg.matrix_rank`.\n",
      "  VisibleDeprecationWarning)\n",
      "/usr/lib/pymodules/python2.7/matplotlib/collections.py:548: FutureWarning: elementwise comparison failed; returning scalar instead, but in the future will perform elementwise comparison\n",
      "  if self._edgecolors == 'face':\n"
     ]
    },
    {
     "name": "stdout",
     "output_type": "stream",
     "text": [
      "\n"
     ]
    },
    {
     "data": {
      "image/png": "[encoded data removed]",
      "text/plain": [
       "<matplotlib.figure.Figure at 0x7f464b2b76d0>"
      ]
     },
     "metadata": {},
     "output_type": "display_data"
    },
    {
     "data": {
      "image/png": "[encoded data removed]",
      "text/plain": [
       "<matplotlib.figure.Figure at 0x7f46455c6490>"
      ]
     },
     "metadata": {},
     "output_type": "display_data"
    }
   ],
   "source": [
    "from sklearn.ensemble import RandomForestClassifier as RF\n",
    "from sklearn.metrics import confusion_matrix\n",
    "from sklearn.metrics import accuracy_score\n",
    "from sklearn.metrics import f1_score\n",
    "\n",
    "def test_classifier(X,y,print_cm,classifier,**kwargs):\n",
    "    # testando com Random Forest\n",
    "    y_pred = stratified_cv(X, y, classifier,**kwargs)\n",
    "\n",
    "    # Acurácia\n",
    "    print 'Acurácia do modelo: ' + str(accuracy_score(y,y_pred))\n",
    "    print 'F1 do modelo: ' + str(f1_score(y,y_pred))\n",
    "\n",
    "    if print_cm:\n",
    "        # adicionando resultado na matriz de confusão\n",
    "        cm = confusion_matrix(y, y_pred)\n",
    "        print '\\nMatriz de confusão'\n",
    "        print str(cm)\n",
    "        plot_confusion_matrix(cm)\n",
    "\n",
    "        cm_normalized = cm.astype('float') / cm.sum(axis=1)[:, np.newaxis]\n",
    "        print('\\nMatriz de confusão normalizada')\n",
    "        plt.figure()\n",
    "        plot_confusion_matrix(cm_normalized, title='Normalized confusion matrix')\n",
    "        print(cm_normalized)\n",
    "    \n",
    "\n",
    "\n",
    "test_classifier(X,y,True,RF,random_state=12)"
   ]
  },
  {
   "cell_type": "markdown",
   "metadata": {},
   "source": [
    "Primeiramente, preciso dizer que estamos utilizando o algoritmo [Random Forests](http://scikit-learn.org/stable/modules/generated/sklearn.ensemble.RandomForestClassifier.html) que utiliza várias árvores de decisão para fazer a classificação, passamos para ele a matriz X com as features e o vetor y de respostas.\n",
    "\n",
    "![Groot](https://secure.static.tumblr.com/729f45dd53c30c72448ad2bd92e478d1/aw8lxok/8lLnac19x/tumblr_static_tumblr_static_5qu2x629tns4owww4osoco004_640.gif)\n",
    "\n",
    "\n",
    "Como estamos lidando aqui o problema como uma classificação binária, então temos que escolher uma métrica de sucesso condizente. No caso, vamos mostrar tanto a acurácia, que é simples de entender e explicar quanto a métrica [f1](https://en.wikipedia.org/wiki/F1_score) que mostra melhor o sucesso do modelo, dado que existe um grande desbalanceamento de classes.\n",
    "\n",
    "Utilizamos também a matriz de confusão normalizada para ficar mais fácil visualizar o quão bem modelo preve o churning.\n",
    "\n",
    "Agora vamos listar a importância das features. \n",
    "\n",
    "Fonte: [Feature importances with forests of trees](http://scikit-learn.org/stable/auto_examples/ensemble/plot_forest_importances.html) "
   ]
  },
  {
   "cell_type": "markdown",
   "metadata": {},
   "source": [
    "## Importância de Features"
   ]
  },
  {
   "cell_type": "code",
   "execution_count": 14,
   "metadata": {
    "collapsed": true
   },
   "outputs": [],
   "source": [
    "from sklearn.datasets import make_classification\n",
    "from sklearn.ensemble import RandomForestClassifier\n",
    "\n",
    "\n",
    "def feature_importance(X,y):\n",
    "    # Build a forest and compute the feature importances\n",
    "    forest = RandomForestClassifier(random_state=12)\n",
    "    forest.fit(X, y)\n",
    "    importances = forest.feature_importances_\n",
    "    std = np.std([tree.feature_importances_ for tree in forest.estimators_],\n",
    "                 axis=0)\n",
    "    indices = np.argsort(importances)[::-1]\n",
    "\n",
    "    # Print the feature ranking\n",
    "    print(\"Feature ranking:\")\n",
    "\n",
    "    for f in range(X.shape[1]):\n",
    "        print(\"%d. feature %d (%f)\" % (f + 1, indices[f], importances[indices[f]]))\n",
    "\n",
    "    # Plot the feature importances of the forest\n",
    "    plt.figure()\n",
    "    plt.title(\"Feature importances\")\n",
    "    plt.bar(range(X.shape[1]), importances[indices],\n",
    "           color=\"r\", yerr=std[indices], align=\"center\")\n",
    "    plt.xticks(range(X.shape[1]), indices)\n",
    "    plt.xlim([-1, X.shape[1]])\n",
    "    plt.show()"
   ]
  },
  {
   "cell_type": "code",
   "execution_count": 15,
   "metadata": {
    "collapsed": false
   },
   "outputs": [
    {
     "name": "stdout",
     "output_type": "stream",
     "text": [
      "0 - State\n",
      "1 - Account Length\n",
      "2 - Int'l Plan\n",
      "3 - VMail Plan\n",
      "4 - VMail Message\n",
      "5 - Day Mins\n",
      "6 - Day Calls\n",
      "7 - Day Charge\n",
      "8 - Eve Mins\n",
      "9 - Eve Calls\n",
      "10 - Eve Charge\n",
      "11 - Night Mins\n",
      "12 - Night Calls\n",
      "13 - Night Charge\n",
      "14 - Intl Mins\n",
      "15 - Intl Calls\n",
      "16 - Intl Charge\n",
      "17 - CustServ Calls\n",
      "\n",
      "\n",
      "Feature ranking:\n",
      "1. feature 5 (0.150194)\n",
      "2. feature 17 (0.122422)\n",
      "3. feature 7 (0.121427)\n",
      "4. feature 8 (0.078148)\n",
      "5. feature 2 (0.074473)\n",
      "6. feature 10 (0.070833)\n",
      "7. feature 14 (0.045192)\n",
      "8. feature 15 (0.042706)\n",
      "9. feature 11 (0.038932)\n",
      "10. feature 16 (0.037543)\n",
      "11. feature 12 (0.035036)\n",
      "12. feature 13 (0.034994)\n",
      "13. feature 6 (0.031734)\n",
      "14. feature 1 (0.028708)\n",
      "15. feature 9 (0.024622)\n",
      "16. feature 3 (0.022160)\n",
      "17. feature 0 (0.020662)\n",
      "18. feature 4 (0.020216)\n"
     ]
    },
    {
     "data": {
      "image/png": "[encoded data removed]",
      "text/plain": [
       "<matplotlib.figure.Figure at 0x7f4646206310>"
      ]
     },
     "metadata": {},
     "output_type": "display_data"
    }
   ],
   "source": [
    "i = 0\n",
    "for feature in df_churn.columns.tolist():\n",
    "    print str(i) + ' - ' +feature\n",
    "    i += 1    \n",
    "\n",
    "print '\\n'    \n",
    "\n",
    "feature_importance(X,y)"
   ]
  },
  {
   "cell_type": "markdown",
   "metadata": {},
   "source": [
    "Podemos ver por esses dados que as features mais importantes são:\n",
    "    * Day Charge\n",
    "    * Day Mins\n",
    "    * Customer Service Calls\n",
    "Isso faz sentido, um usuário que utiliza pouco e/ou faz muitas ligações para o SAC tem uma chance maior de cancelar seu plano.        "
   ]
  },
  {
   "cell_type": "markdown",
   "metadata": {},
   "source": [
    "Vamos agora variar alguns hyper-parâmetros do classificador?\n",
    "\n",
    "Vamos utilizar aqui o [GridSearchCV](http://scikit-learn.org/stable/modules/generated/sklearn.grid_search.GridSearchCV.html), ele passa por todas combinações passadas e escolher a melhor baseada na métrica desejada."
   ]
  },
  {
   "cell_type": "code",
   "execution_count": 16,
   "metadata": {
    "collapsed": false,
    "scrolled": true
   },
   "outputs": [
    {
     "name": "stdout",
     "output_type": "stream",
     "text": [
      "# Otimização hyper-parametros para f1\n",
      "Melhores parâmetros encontrados no conjunto de treino:\n",
      "\n",
      "{'max_features': 'auto', 'n_estimators': 250}\n",
      "\n",
      "Resultado do grid:\n",
      "\n",
      "0.687 (+/-0.081) for {'max_features': 'auto', 'n_estimators': 10}\n",
      "0.806 (+/-0.062) for {'max_features': 'auto', 'n_estimators': 100}\n",
      "0.815 (+/-0.054) for {'max_features': 'auto', 'n_estimators': 250}\n",
      "0.687 (+/-0.081) for {'max_features': 'sqrt', 'n_estimators': 10}\n",
      "0.806 (+/-0.062) for {'max_features': 'sqrt', 'n_estimators': 100}\n",
      "0.815 (+/-0.054) for {'max_features': 'sqrt', 'n_estimators': 250}\n",
      "0.687 (+/-0.081) for {'max_features': 'log2', 'n_estimators': 10}\n",
      "0.806 (+/-0.062) for {'max_features': 'log2', 'n_estimators': 100}\n",
      "0.815 (+/-0.054) for {'max_features': 'log2', 'n_estimators': 250}\n",
      "0.751 (+/-0.109) for {'max_features': None, 'n_estimators': 10}\n",
      "0.787 (+/-0.068) for {'max_features': None, 'n_estimators': 100}\n",
      "0.793 (+/-0.069) for {'max_features': None, 'n_estimators': 250}\n",
      "\n",
      "Detalhamento:\n",
      "\n",
      "O modelo é treinado com o conjunto de treino\n",
      "Os resultados finais são do conjunto de teste\n",
      "\n",
      "             precision    recall  f1-score   support\n",
      "\n",
      "          0       0.96      0.98      0.97      1422\n",
      "          1       0.87      0.73      0.80       245\n",
      "\n",
      "avg / total       0.94      0.94      0.94      1667\n",
      "\n",
      "\n",
      "# Otimização hyper-parametros para accuracy\n",
      "Melhores parâmetros encontrados no conjunto de treino:\n",
      "\n",
      "{'max_features': 'auto', 'n_estimators': 250}\n",
      "\n",
      "Resultado do grid:\n",
      "\n",
      "0.927 (+/-0.018) for {'max_features': 'auto', 'n_estimators': 10}\n",
      "0.951 (+/-0.014) for {'max_features': 'auto', 'n_estimators': 100}\n",
      "0.953 (+/-0.011) for {'max_features': 'auto', 'n_estimators': 250}\n",
      "0.927 (+/-0.018) for {'max_features': 'sqrt', 'n_estimators': 10}\n",
      "0.951 (+/-0.014) for {'max_features': 'sqrt', 'n_estimators': 100}\n",
      "0.953 (+/-0.011) for {'max_features': 'sqrt', 'n_estimators': 250}\n",
      "0.927 (+/-0.018) for {'max_features': 'log2', 'n_estimators': 10}\n",
      "0.951 (+/-0.014) for {'max_features': 'log2', 'n_estimators': 100}\n",
      "0.953 (+/-0.011) for {'max_features': 'log2', 'n_estimators': 250}\n",
      "0.935 (+/-0.028) for {'max_features': None, 'n_estimators': 10}\n",
      "0.943 (+/-0.019) for {'max_features': None, 'n_estimators': 100}\n",
      "0.945 (+/-0.019) for {'max_features': None, 'n_estimators': 250}\n",
      "\n",
      "Detalhamento:\n",
      "\n",
      "O modelo é treinado com o conjunto de treino\n",
      "Os resultados finais são do conjunto de teste\n",
      "\n",
      "             precision    recall  f1-score   support\n",
      "\n",
      "          0       0.96      0.98      0.97      1422\n",
      "          1       0.87      0.73      0.80       245\n",
      "\n",
      "avg / total       0.94      0.94      0.94      1667\n",
      "\n",
      "\n"
     ]
    }
   ],
   "source": [
    "from sklearn.grid_search import GridSearchCV\n",
    "from sklearn.cross_validation import train_test_split\n",
    "from sklearn.metrics import classification_report\n",
    "\n",
    "def gridSearch(X,y,classifier, tuned_parameters):\n",
    "    scores = ['f1', 'accuracy']\n",
    "    \n",
    "    X_train, X_test, y_train, y_test = train_test_split(\n",
    "    X, y, test_size=0.5, random_state=0)\n",
    "\n",
    "    for score in scores:\n",
    "        print(\"# Otimização hyper-parametros para %s\" % score)\n",
    "        \n",
    "        clf = GridSearchCV(classifier, tuned_parameters, cv=5,\n",
    "                           scoring=score)\n",
    "        clf.fit(X_train, y_train)\n",
    "\n",
    "        print(\"Melhores parâmetros encontrados no conjunto de treino:\")\n",
    "        print\n",
    "        print(clf.best_params_)\n",
    "        print\n",
    "        print(\"Resultado do grid:\")\n",
    "        print\n",
    "        for params, mean_score, scores in clf.grid_scores_:\n",
    "            print(\"%0.3f (+/-%0.03f) for %r\"\n",
    "                  % (mean_score, scores.std() * 2, params))\n",
    "        print\n",
    "\n",
    "        print(\"Detalhamento:\")\n",
    "        print\n",
    "        print(\"O modelo é treinado com o conjunto de treino\")\n",
    "        print(\"Os resultados finais são do conjunto de teste\")\n",
    "        print\n",
    "        y_true, y_pred = y_test, clf.predict(X_test)\n",
    "        print(classification_report(y_true, y_pred))\n",
    "        print\n",
    "\n",
    "        \n",
    "tuned_parameters = [{'n_estimators': [10,100,250],'max_features':['auto','sqrt','log2', None]}]\n",
    "\n",
    "# Buckle up, this may take a while\n",
    "gridSearch(X,y,RandomForestClassifier(random_state=12),tuned_parameters) "
   ]
  },
  {
   "cell_type": "markdown",
   "metadata": {},
   "source": [
    "Lembrando que o GridSearchCV utilizado aqui pode demorar muito dependendo do número de hyper-paramêtros, dado que ele vai testar todas as combinações possíveis. Existem outras maneiras de variar esses hyper-parêmetros, para aprender mais sobre isso visite a página relativa a [GridSearch](http://scikit-learn.org/stable/modules/grid_search.html).\n",
    "\n",
    "Podemos ver depois de todos esses testes que o melhor resultado encontrado foi com os seguintes parâmetros do classificador:\n",
    "\n",
    "**F1 -\n",
    "{'max_features': 'auto', 'n_estimators': 250}**\n",
    "\n",
    "**Acurácia\n",
    "{'max_features': 'auto', 'n_estimators': 250}**\n",
    "\n",
    "Vamos agora verificar como fica nossa matriz de confusão com esses parâmetros?"
   ]
  },
  {
   "cell_type": "code",
   "execution_count": 17,
   "metadata": {
    "collapsed": false
   },
   "outputs": [
    {
     "name": "stdout",
     "output_type": "stream",
     "text": [
      "Acurácia do modelo: 0.954695469547\n",
      "F1 do modelo: 0.825433526012\n"
     ]
    }
   ],
   "source": [
    "test_classifier(X,y,False,RandomForestClassifier,max_features='auto', n_estimators= 250,random_state=12)"
   ]
  },
  {
   "cell_type": "markdown",
   "metadata": {},
   "source": [
    "Podemos ver que houve uma pequena melhora dos resultados variando os hyper-parâmetros.\n",
    "\n",
    "__Antigos:__\n",
    "\n",
    "Acurácia do modelo: 0.940894089409\n",
    "\n",
    "F1 do modelo: 0.760048721072\n",
    "\n",
    "__Novos:__\n",
    "\n",
    "Acurácia do modelo: 0.954695469547\n",
    "\n",
    "F1 do modelo: 0.825433526012\n",
    "\n",
    "\n",
    "![Comemorando](http://img.ibxk.com.br/2016/04/11/11175523319429.gif)\n",
    "  <p style=\"text-align: center;\"> *Podemos comemorar =D *</p>\n"
   ]
  },
  {
   "cell_type": "markdown",
   "metadata": {},
   "source": [
    "Para finalizar nosso exemplo, vamos tentar gerar mais features? \n",
    "\n",
    "Vamos utilizar [PolynomialFeatures](http://scikit-learn.org/stable/modules/generated/sklearn.preprocessing.PolynomialFeatures.html#sklearn.preprocessing.PolynomialFeatures), com ele conseguimos gerar mais colunas em nossa tabela X, gerando features baseados nos dados existentes.\n",
    "\n",
    "No caso, se você possui duas features [a,b] essa operação irá gerar [1, a, b, a^2, ab, b^2], isto é, vai combinar as features com elas mesmas e com as outras."
   ]
  },
  {
   "cell_type": "code",
   "execution_count": 18,
   "metadata": {
    "collapsed": false
   },
   "outputs": [
    {
     "name": "stdout",
     "output_type": "stream",
     "text": [
      "Número de features: 18\n",
      "\n",
      "Número de features depois da transformação: 190\n"
     ]
    }
   ],
   "source": [
    "from sklearn.preprocessing import PolynomialFeatures\n",
    "\n",
    "print 'Número de features: ' + str(X.shape[1])\n",
    "poly = PolynomialFeatures(2)\n",
    "X_poly = poly.fit_transform(X)\n",
    "print '\\nNúmero de features depois da transformação: ' + str(X_poly.shape[1])"
   ]
  },
  {
   "cell_type": "markdown",
   "metadata": {},
   "source": [
    "Saímos de 18 features para 190!!\n",
    "\n",
    "Outra opção é não gerar as features que são combinação delas mesmas, passando o parâmetro **interaction_only** como true. Dessa forma apenas as combinações de features irão ser geradas. \n",
    "\n",
    "Exemplo: [1,a,b,ab]"
   ]
  },
  {
   "cell_type": "code",
   "execution_count": 19,
   "metadata": {
    "collapsed": false
   },
   "outputs": [
    {
     "name": "stdout",
     "output_type": "stream",
     "text": [
      "\n",
      "Número de features com interaction_only: 172\n"
     ]
    }
   ],
   "source": [
    "poly_less = PolynomialFeatures(interaction_only=True)\n",
    "X_poly_less = poly_less.fit_transform(X)\n",
    "\n",
    "print '\\nNúmero de features com interaction_only: ' + str(X_poly_less.shape[1])"
   ]
  },
  {
   "cell_type": "markdown",
   "metadata": {},
   "source": [
    "Vamos testar nosso classificador agora com 190 features."
   ]
  },
  {
   "cell_type": "code",
   "execution_count": 20,
   "metadata": {
    "collapsed": false
   },
   "outputs": [
    {
     "name": "stdout",
     "output_type": "stream",
     "text": [
      "Acurácia do modelo: 0.952895289529\n",
      "F1 do modelo: 0.818497109827\n"
     ]
    }
   ],
   "source": [
    "test_classifier(X_poly,y,False,RandomForestClassifier,max_features='auto', n_estimators= 250, n_jobs=-1, random_state=12)"
   ]
  },
  {
   "cell_type": "markdown",
   "metadata": {},
   "source": [
    "**Uai** (sim sou mineiro), temos mais features e o valor da acurácia piorou? \n",
    "\n",
    "Provavelmente isso aconteceu, pois fizemos o GridSearch para as 18 features iniciais ou o as novas entradas adicionam ruído.\n",
    "\n",
    "Vamos testar agora um GridSearch nesse hiper-parâmetro para nossas 190 features."
   ]
  },
  {
   "cell_type": "code",
   "execution_count": 21,
   "metadata": {
    "collapsed": false
   },
   "outputs": [
    {
     "name": "stdout",
     "output_type": "stream",
     "text": [
      "# Otimização hyper-parametros para f1\n",
      "Melhores parâmetros encontrados no conjunto de treino:\n",
      "\n",
      "{'max_features': None}\n",
      "\n",
      "Resultado do grid:\n",
      "\n",
      "0.798 (+/-0.063) for {'max_features': 'auto'}\n",
      "0.783 (+/-0.045) for {'max_features': 'sqrt'}\n",
      "0.693 (+/-0.094) for {'max_features': 'log2'}\n",
      "0.803 (+/-0.064) for {'max_features': None}\n",
      "\n",
      "Detalhamento:\n",
      "\n",
      "O modelo é treinado com o conjunto de treino\n",
      "Os resultados finais são do conjunto de teste\n",
      "\n",
      "             precision    recall  f1-score   support\n",
      "\n",
      "          0       0.96      0.97      0.97      1422\n",
      "          1       0.84      0.75      0.79       245\n",
      "\n",
      "avg / total       0.94      0.94      0.94      1667\n",
      "\n",
      "\n",
      "# Otimização hyper-parametros para accuracy\n",
      "Melhores parâmetros encontrados no conjunto de treino:\n",
      "\n",
      "{'max_features': 'sqrt'}\n",
      "\n",
      "Resultado do grid:\n",
      "\n",
      "0.947 (+/-0.016) for {'max_features': 'auto'}\n",
      "0.950 (+/-0.016) for {'max_features': 'sqrt'}\n",
      "0.928 (+/-0.012) for {'max_features': 'log2'}\n",
      "0.950 (+/-0.013) for {'max_features': None}\n",
      "\n",
      "Detalhamento:\n",
      "\n",
      "O modelo é treinado com o conjunto de treino\n",
      "Os resultados finais são do conjunto de teste\n",
      "\n",
      "             precision    recall  f1-score   support\n",
      "\n",
      "          0       0.96      0.98      0.97      1422\n",
      "          1       0.88      0.73      0.80       245\n",
      "\n",
      "avg / total       0.94      0.95      0.94      1667\n",
      "\n",
      "\n"
     ]
    }
   ],
   "source": [
    "tuned_parameters = [{'max_features':['auto','sqrt','log2', None]}]\n",
    "\n",
    "# Buckle up, this REALLY may take a while\n",
    "gridSearch(X_poly,y,RandomForestClassifier(n_estimators= 250, n_jobs=-1),tuned_parameters) "
   ]
  },
  {
   "cell_type": "code",
   "execution_count": 22,
   "metadata": {
    "collapsed": false
   },
   "outputs": [
    {
     "name": "stdout",
     "output_type": "stream",
     "text": [
      "Acurácia do modelo: 0.952895289529\n",
      "F1 do modelo: 0.818497109827\n"
     ]
    }
   ],
   "source": [
    "test_classifier(X_poly,y,False,RandomForestClassifier,max_features='sqrt', n_estimators= 250, n_jobs=-1, random_state=12)"
   ]
  },
  {
   "cell_type": "markdown",
   "metadata": {},
   "source": [
    "Demorou MUITO para rodar e mesmo assim não melhoramos o resultado. Talvez alguma dessas 172 features seja interessante, mas parece que o \"ruído\" que elas geram não melhora o resultado. "
   ]
  },
  {
   "cell_type": "markdown",
   "metadata": {},
   "source": [
    "## Conclusão\n",
    "\n",
    "Nesse post passamos por praticamente todas etapas de um projeto de Ciência de Dados, limpamos, pre-processamos e criamos novos dados. Além disso, fizemos um gridsearch para achar os melhores hiper-parâmetros e verificamos os resultados vendo as métricas (acurácia e f1) alem de verificar a matriz de confusão gerada.\n",
    "\n",
    "Logicamente, em um projeto real de churning existem outras complicações. Normalmente, os dados são por tempo, esse CSV seria apenas os dados relativos a um mês, além disso, em projetos de evasão temos que levar em conta o negócio para encontrar as melhores métricas de sucesso e o melhor algoritmo. Pode ser que você tenha que retornar uma lista de tamanho definido com os clientes com maior probabilidade de sáida, mas com o ferramental apresentado nesse post é possível atacar esses problemas.\n",
    "\n",
    "Espero que o post tenha sido interessante e ajude vocês a usarem o Scikit.\n",
    "\n",
    "Abraços e até a próxima.\n",
    "\n",
    "![The End](https://media.giphy.com/media/nU704Y2jeFOHm/giphy.gif)\n",
    "\n"
   ]
  },
  {
   "cell_type": "code",
   "execution_count": null,
   "metadata": {
    "collapsed": true
   },
   "outputs": [],
   "source": []
  }
 ],
 "metadata": {
  "kernelspec": {
   "display_name": "Python 2",
   "language": "python",
   "name": "python2"
  },
  "language_info": {
   "codemirror_mode": {
    "name": "ipython",
    "version": 2
   },
   "file_extension": ".py",
   "mimetype": "text/x-python",
   "name": "python",
   "nbconvert_exporter": "python",
   "pygments_lexer": "ipython2",
   "version": "2.7.6"
  }
 },
 "nbformat": 4,
 "nbformat_minor": 0
}
