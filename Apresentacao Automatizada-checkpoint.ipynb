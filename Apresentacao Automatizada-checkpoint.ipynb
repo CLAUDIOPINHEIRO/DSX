{
 "cells": [
  {
   "cell_type": "markdown",
   "metadata": {
    "collapsed": true,
    "deletable": true,
    "editable": true,
    "slideshow": {
     "slide_type": "slide"
    }
   },
   "source": [
    "**concrete** solutions\n",
    "\n",
    "\n",
    "# Cielo\n",
    "\n",
    "## Projeto Star DevOps\n"
   ]
  },
  {
   "cell_type": "markdown",
   "metadata": {
    "collapsed": true,
    "deletable": true,
    "editable": true,
    "slideshow": {
     "slide_type": "slide"
    }
   },
   "source": [
    "**concrete** solutions\n",
    "\n",
    "\n",
    "# Review Star DevOps\n",
    "\n",
    "## Sprint #6\n"
   ]
  },
  {
   "cell_type": "markdown",
   "metadata": {
    "slideshow": {
     "slide_type": "slide"
    }
   },
   "source": [
    "<div class=\"categoria pessoas\">\n",
    "<h1>Histórias do Sprint</h1>\n",
    "</div>"
   ]
  },
  {
   "cell_type": "markdown",
   "metadata": {},
   "source": [
    "# Sprint #6\n",
    "\n",
    "Objetivo do Sprint: Validar os acessos\n",
    "para iniciar a estrutura de Continuous\n",
    "Integration.\n"
   ]
  },
  {
   "cell_type": "markdown",
   "metadata": {
    "slideshow": {
     "slide_type": "slide"
    }
   },
   "source": [
    "# Sprint #6\n",
    "\n",
    "H: Eu, como DevOps, preciso ter acesso (mesmo que temporário) aos servidores e aplicações para trabalhar nas atividades do sprint #1.\n",
    "\n",
    " - T: Servidor de DevOps Star (10.82.30.104)\n",
    " - T: SVN\n",
    " - T: Internet\n",
    " - T: Storage\n",
    "\n",
    "DoD: Ter acessado todos os sistemas necessários para entregar o primeiro sprint.\n"
   ]
  },
  {
   "cell_type": "markdown",
   "metadata": {
    "deletable": true,
    "editable": true,
    "slideshow": {
     "slide_type": "slide"
    }
   },
   "source": [
    "<div class=\"categoria evidencias\">\n",
    "<h1>Evidências</h1>\n",
    "</div>"
   ]
  },
  {
   "cell_type": "markdown",
   "metadata": {
    "deletable": true,
    "editable": true,
    "slideshow": {
     "slide_type": "slide"
    }
   },
   "source": [
    "<div class=\"categoria proximo\">\n",
    "<h1>Próximo Sprint</h1>\n",
    "</div>"
   ]
  },
  {
   "cell_type": "markdown",
   "metadata": {
    "deletable": true,
    "editable": true,
    "slideshow": {
     "slide_type": "slide"
    }
   },
   "source": [
    "# Sprint #7\n",
    "\n",
    "H: Eu, como DevOps, preciso ter acesso (mesmo que temporário) aos servidores e aplicações para trabalhar nas atividades do sprint #1.\n",
    "\n",
    " - T: Servidor de DevOps Star (10.82.30.104)\n",
    " - T: SVN\n",
    " - T: Internet\n",
    " - T: Storage\n",
    "\n",
    "DoD: Ter acessado todos os sistemas necessários para entregar o primeiro sprint.\n"
   ]
  },
  {
   "cell_type": "markdown",
   "metadata": {
    "deletable": true,
    "editable": true,
    "slideshow": {
     "slide_type": "slide"
    }
   },
   "source": [
    "<div class=\"categoria retrospectiva\">\n",
    "<h1>Retrospectiva</h1>\n",
    "</div>"
   ]
  },
  {
   "cell_type": "markdown",
   "metadata": {
    "deletable": true,
    "editable": true,
    "slideshow": {
     "slide_type": "slide"
    }
   },
   "source": [
    "**concrete** solutions\n",
    "\n",
    "---\n",
    "\n",
    "Ajudamos empresas a criar produtos\n",
    "digitais de sucesso\n",
    "\n",
    "Rio de Janeiro – Rua São José, 90 – cj. 2121\n",
    "Centro – (21) 2240-2030\n",
    "\n",
    "São Paulo – Av. Nações Unidas, 11.541\n",
    "3o andar - Brooklin - (11) 4119-0449"
   ]
  }
 ],
 "metadata": {
  "celltoolbar": "Slideshow",
  "kernelspec": {
   "display_name": "Python 3",
   "language": "python",
   "name": "python3"
  },
  "language_info": {
   "codemirror_mode": {
    "name": "ipython",
    "version": 3
   },
   "file_extension": ".py",
   "mimetype": "text/x-python",
   "name": "python",
   "nbconvert_exporter": "python",
   "pygments_lexer": "ipython3",
   "version": "3.5.3"
  }
 },
 "nbformat": 4,
 "nbformat_minor": 2
}
