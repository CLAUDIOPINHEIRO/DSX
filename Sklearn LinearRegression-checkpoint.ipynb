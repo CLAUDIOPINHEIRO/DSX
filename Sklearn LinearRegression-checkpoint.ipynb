{
 "cells": [
  {
   "cell_type": "code",
   "execution_count": 1,
   "metadata": {
    "collapsed": true
   },
   "outputs": [],
   "source": [
    "import pandas as pd"
   ]
  },
  {
   "cell_type": "code",
   "execution_count": 3,
   "metadata": {
    "collapsed": true
   },
   "outputs": [],
   "source": [
    "df = pd.read_csv(\"imoveis.csv\")"
   ]
  },
  {
   "cell_type": "code",
   "execution_count": 8,
   "metadata": {
    "collapsed": false
   },
   "outputs": [
    {
     "data": {
      "text/html": [
       "<div>\n",
       "<table border=\"1\" class=\"dataframe\">\n",
       "  <thead>\n",
       "    <tr style=\"text-align: right;\">\n",
       "      <th></th>\n",
       "      <th>Ordem</th>\n",
       "      <th>Valor</th>\n",
       "      <th>Area</th>\n",
       "      <th>IA</th>\n",
       "      <th>Andar</th>\n",
       "      <th>Suites</th>\n",
       "      <th>Vista</th>\n",
       "      <th>DistBM</th>\n",
       "      <th>Semruido</th>\n",
       "      <th>AV200m</th>\n",
       "    </tr>\n",
       "  </thead>\n",
       "  <tbody>\n",
       "    <tr>\n",
       "      <th>count</th>\n",
       "      <td>43.000000</td>\n",
       "      <td>43.000000</td>\n",
       "      <td>43.000000</td>\n",
       "      <td>43.000000</td>\n",
       "      <td>43.000000</td>\n",
       "      <td>43.000000</td>\n",
       "      <td>43.000000</td>\n",
       "      <td>43.000000</td>\n",
       "      <td>43.000000</td>\n",
       "      <td>43.000000</td>\n",
       "    </tr>\n",
       "    <tr>\n",
       "      <th>mean</th>\n",
       "      <td>22.000000</td>\n",
       "      <td>144618.255814</td>\n",
       "      <td>195.613721</td>\n",
       "      <td>6.348837</td>\n",
       "      <td>4.604651</td>\n",
       "      <td>116.441860</td>\n",
       "      <td>7.906977</td>\n",
       "      <td>489.372093</td>\n",
       "      <td>58.558140</td>\n",
       "      <td>35.534884</td>\n",
       "    </tr>\n",
       "    <tr>\n",
       "      <th>std</th>\n",
       "      <td>12.556539</td>\n",
       "      <td>72084.680047</td>\n",
       "      <td>72.616871</td>\n",
       "      <td>6.513297</td>\n",
       "      <td>2.718013</td>\n",
       "      <td>92.193198</td>\n",
       "      <td>25.519193</td>\n",
       "      <td>374.663787</td>\n",
       "      <td>49.417706</td>\n",
       "      <td>47.742039</td>\n",
       "    </tr>\n",
       "    <tr>\n",
       "      <th>min</th>\n",
       "      <td>1.000000</td>\n",
       "      <td>50000.000000</td>\n",
       "      <td>105.000000</td>\n",
       "      <td>1.000000</td>\n",
       "      <td>1.000000</td>\n",
       "      <td>1.000000</td>\n",
       "      <td>1.000000</td>\n",
       "      <td>85.000000</td>\n",
       "      <td>1.000000</td>\n",
       "      <td>1.000000</td>\n",
       "    </tr>\n",
       "    <tr>\n",
       "      <th>25%</th>\n",
       "      <td>11.500000</td>\n",
       "      <td>95000.000000</td>\n",
       "      <td>155.500000</td>\n",
       "      <td>1.000000</td>\n",
       "      <td>2.000000</td>\n",
       "      <td>100.000000</td>\n",
       "      <td>1.000000</td>\n",
       "      <td>248.000000</td>\n",
       "      <td>1.000000</td>\n",
       "      <td>1.000000</td>\n",
       "    </tr>\n",
       "    <tr>\n",
       "      <th>50%</th>\n",
       "      <td>22.000000</td>\n",
       "      <td>120000.000000</td>\n",
       "      <td>171.000000</td>\n",
       "      <td>2.000000</td>\n",
       "      <td>4.000000</td>\n",
       "      <td>100.000000</td>\n",
       "      <td>1.000000</td>\n",
       "      <td>421.000000</td>\n",
       "      <td>100.000000</td>\n",
       "      <td>1.000000</td>\n",
       "    </tr>\n",
       "    <tr>\n",
       "      <th>75%</th>\n",
       "      <td>32.500000</td>\n",
       "      <td>182500.000000</td>\n",
       "      <td>213.685000</td>\n",
       "      <td>12.000000</td>\n",
       "      <td>6.000000</td>\n",
       "      <td>100.000000</td>\n",
       "      <td>1.000000</td>\n",
       "      <td>561.000000</td>\n",
       "      <td>100.000000</td>\n",
       "      <td>100.000000</td>\n",
       "    </tr>\n",
       "    <tr>\n",
       "      <th>max</th>\n",
       "      <td>43.000000</td>\n",
       "      <td>362400.000000</td>\n",
       "      <td>392.400000</td>\n",
       "      <td>19.000000</td>\n",
       "      <td>12.000000</td>\n",
       "      <td>400.000000</td>\n",
       "      <td>100.000000</td>\n",
       "      <td>1549.000000</td>\n",
       "      <td>100.000000</td>\n",
       "      <td>100.000000</td>\n",
       "    </tr>\n",
       "  </tbody>\n",
       "</table>\n",
       "</div>"
      ],
      "text/plain": [
       "           Ordem          Valor        Area         IA      Andar      Suites  \\\n",
       "count  43.000000      43.000000   43.000000  43.000000  43.000000   43.000000   \n",
       "mean   22.000000  144618.255814  195.613721   6.348837   4.604651  116.441860   \n",
       "std    12.556539   72084.680047   72.616871   6.513297   2.718013   92.193198   \n",
       "min     1.000000   50000.000000  105.000000   1.000000   1.000000    1.000000   \n",
       "25%    11.500000   95000.000000  155.500000   1.000000   2.000000  100.000000   \n",
       "50%    22.000000  120000.000000  171.000000   2.000000   4.000000  100.000000   \n",
       "75%    32.500000  182500.000000  213.685000  12.000000   6.000000  100.000000   \n",
       "max    43.000000  362400.000000  392.400000  19.000000  12.000000  400.000000   \n",
       "\n",
       "            Vista       DistBM    Semruido      AV200m  \n",
       "count   43.000000    43.000000   43.000000   43.000000  \n",
       "mean     7.906977   489.372093   58.558140   35.534884  \n",
       "std     25.519193   374.663787   49.417706   47.742039  \n",
       "min      1.000000    85.000000    1.000000    1.000000  \n",
       "25%      1.000000   248.000000    1.000000    1.000000  \n",
       "50%      1.000000   421.000000  100.000000    1.000000  \n",
       "75%      1.000000   561.000000  100.000000  100.000000  \n",
       "max    100.000000  1549.000000  100.000000  100.000000  "
      ]
     },
     "execution_count": 8,
     "metadata": {},
     "output_type": "execute_result"
    }
   ],
   "source": [
    "df.describe()"
   ]
  },
  {
   "cell_type": "code",
   "execution_count": 10,
   "metadata": {
    "collapsed": false
   },
   "outputs": [
    {
     "data": {
      "text/html": [
       "<div>\n",
       "<table border=\"1\" class=\"dataframe\">\n",
       "  <thead>\n",
       "    <tr style=\"text-align: right;\">\n",
       "      <th></th>\n",
       "      <th>Ordem</th>\n",
       "      <th>Valor</th>\n",
       "      <th>Area</th>\n",
       "      <th>IA</th>\n",
       "      <th>Andar</th>\n",
       "      <th>Suites</th>\n",
       "      <th>Vista</th>\n",
       "      <th>DistBM</th>\n",
       "      <th>Semruido</th>\n",
       "      <th>AV200m</th>\n",
       "    </tr>\n",
       "  </thead>\n",
       "  <tbody>\n",
       "    <tr>\n",
       "      <th>0</th>\n",
       "      <td>1</td>\n",
       "      <td>160000</td>\n",
       "      <td>167.81</td>\n",
       "      <td>1</td>\n",
       "      <td>5</td>\n",
       "      <td>100</td>\n",
       "      <td>100</td>\n",
       "      <td>294</td>\n",
       "      <td>100</td>\n",
       "      <td>1</td>\n",
       "    </tr>\n",
       "    <tr>\n",
       "      <th>1</th>\n",
       "      <td>2</td>\n",
       "      <td>67000</td>\n",
       "      <td>128.80</td>\n",
       "      <td>1</td>\n",
       "      <td>6</td>\n",
       "      <td>1</td>\n",
       "      <td>1</td>\n",
       "      <td>1505</td>\n",
       "      <td>100</td>\n",
       "      <td>1</td>\n",
       "    </tr>\n",
       "    <tr>\n",
       "      <th>2</th>\n",
       "      <td>3</td>\n",
       "      <td>190000</td>\n",
       "      <td>217.37</td>\n",
       "      <td>1</td>\n",
       "      <td>8</td>\n",
       "      <td>100</td>\n",
       "      <td>1</td>\n",
       "      <td>251</td>\n",
       "      <td>1</td>\n",
       "      <td>100</td>\n",
       "    </tr>\n",
       "    <tr>\n",
       "      <th>3</th>\n",
       "      <td>4</td>\n",
       "      <td>110000</td>\n",
       "      <td>180.00</td>\n",
       "      <td>12</td>\n",
       "      <td>4</td>\n",
       "      <td>100</td>\n",
       "      <td>1</td>\n",
       "      <td>245</td>\n",
       "      <td>1</td>\n",
       "      <td>1</td>\n",
       "    </tr>\n",
       "    <tr>\n",
       "      <th>4</th>\n",
       "      <td>5</td>\n",
       "      <td>70000</td>\n",
       "      <td>120.00</td>\n",
       "      <td>15</td>\n",
       "      <td>3</td>\n",
       "      <td>100</td>\n",
       "      <td>1</td>\n",
       "      <td>956</td>\n",
       "      <td>100</td>\n",
       "      <td>1</td>\n",
       "    </tr>\n",
       "  </tbody>\n",
       "</table>\n",
       "</div>"
      ],
      "text/plain": [
       "   Ordem   Valor    Area  IA  Andar  Suites  Vista  DistBM  Semruido  AV200m\n",
       "0      1  160000  167.81   1      5     100    100     294       100       1\n",
       "1      2   67000  128.80   1      6       1      1    1505       100       1\n",
       "2      3  190000  217.37   1      8     100      1     251         1     100\n",
       "3      4  110000  180.00  12      4     100      1     245         1       1\n",
       "4      5   70000  120.00  15      3     100      1     956       100       1"
      ]
     },
     "execution_count": 10,
     "metadata": {},
     "output_type": "execute_result"
    }
   ],
   "source": [
    "df.head()"
   ]
  },
  {
   "cell_type": "code",
   "execution_count": 23,
   "metadata": {
    "collapsed": false
   },
   "outputs": [
    {
     "data": {
      "text/html": [
       "<div>\n",
       "<table border=\"1\" class=\"dataframe\">\n",
       "  <thead>\n",
       "    <tr style=\"text-align: right;\">\n",
       "      <th></th>\n",
       "      <th>Ordem</th>\n",
       "      <th>Area</th>\n",
       "      <th>IA</th>\n",
       "      <th>Andar</th>\n",
       "      <th>Suites</th>\n",
       "      <th>Vista</th>\n",
       "      <th>DistBM</th>\n",
       "      <th>Semruido</th>\n",
       "      <th>AV200m</th>\n",
       "    </tr>\n",
       "  </thead>\n",
       "  <tbody>\n",
       "    <tr>\n",
       "      <th>0</th>\n",
       "      <td>1</td>\n",
       "      <td>167.81</td>\n",
       "      <td>1</td>\n",
       "      <td>5</td>\n",
       "      <td>100</td>\n",
       "      <td>100</td>\n",
       "      <td>294</td>\n",
       "      <td>100</td>\n",
       "      <td>1</td>\n",
       "    </tr>\n",
       "    <tr>\n",
       "      <th>1</th>\n",
       "      <td>2</td>\n",
       "      <td>128.80</td>\n",
       "      <td>1</td>\n",
       "      <td>6</td>\n",
       "      <td>1</td>\n",
       "      <td>1</td>\n",
       "      <td>1505</td>\n",
       "      <td>100</td>\n",
       "      <td>1</td>\n",
       "    </tr>\n",
       "    <tr>\n",
       "      <th>2</th>\n",
       "      <td>3</td>\n",
       "      <td>217.37</td>\n",
       "      <td>1</td>\n",
       "      <td>8</td>\n",
       "      <td>100</td>\n",
       "      <td>1</td>\n",
       "      <td>251</td>\n",
       "      <td>1</td>\n",
       "      <td>100</td>\n",
       "    </tr>\n",
       "    <tr>\n",
       "      <th>3</th>\n",
       "      <td>4</td>\n",
       "      <td>180.00</td>\n",
       "      <td>12</td>\n",
       "      <td>4</td>\n",
       "      <td>100</td>\n",
       "      <td>1</td>\n",
       "      <td>245</td>\n",
       "      <td>1</td>\n",
       "      <td>1</td>\n",
       "    </tr>\n",
       "    <tr>\n",
       "      <th>4</th>\n",
       "      <td>5</td>\n",
       "      <td>120.00</td>\n",
       "      <td>15</td>\n",
       "      <td>3</td>\n",
       "      <td>100</td>\n",
       "      <td>1</td>\n",
       "      <td>956</td>\n",
       "      <td>100</td>\n",
       "      <td>1</td>\n",
       "    </tr>\n",
       "  </tbody>\n",
       "</table>\n",
       "</div>"
      ],
      "text/plain": [
       "   Ordem    Area  IA  Andar  Suites  Vista  DistBM  Semruido  AV200m\n",
       "0      1  167.81   1      5     100    100     294       100       1\n",
       "1      2  128.80   1      6       1      1    1505       100       1\n",
       "2      3  217.37   1      8     100      1     251         1     100\n",
       "3      4  180.00  12      4     100      1     245         1       1\n",
       "4      5  120.00  15      3     100      1     956       100       1"
      ]
     },
     "execution_count": 23,
     "metadata": {},
     "output_type": "execute_result"
    }
   ],
   "source": [
    "df_sem_valor = df.drop('Valor', axis=1)\n",
    "df_sem_valor.head()"
   ]
  },
  {
   "cell_type": "code",
   "execution_count": 26,
   "metadata": {
    "collapsed": true
   },
   "outputs": [],
   "source": [
    "from sklearn import linear_model\n",
    "lm = linear_model.LinearRegression()"
   ]
  },
  {
   "cell_type": "code",
   "execution_count": 29,
   "metadata": {
    "collapsed": false
   },
   "outputs": [
    {
     "data": {
      "text/plain": [
       "LinearRegression(copy_X=True, fit_intercept=True, n_jobs=1, normalize=False)"
      ]
     },
     "execution_count": 29,
     "metadata": {},
     "output_type": "execute_result"
    }
   ],
   "source": [
    "lm.fit(df_sem_valor,df.Valor)"
   ]
  },
  {
   "cell_type": "code",
   "execution_count": 41,
   "metadata": {
    "collapsed": false
   },
   "outputs": [
    {
     "name": "stdout",
     "output_type": "stream",
     "text": [
      "[ 94316.3407216]\n",
      "   Ordem   Valor   Area  IA  Andar  Suites  Vista  DistBM  Semruido  AV200m\n",
      "8      9  110000  150.0  10      4     100      1     143         1       1\n"
     ]
    }
   ],
   "source": [
    "pp = df_sem_valor[8:9]\n",
    "print(lm.predict(pp))\n",
    "print(df[8:9])"
   ]
  }
 ],
 "metadata": {
  "kernelspec": {
   "display_name": "Python 3",
   "language": "python",
   "name": "python3"
  },
  "language_info": {
   "codemirror_mode": {
    "name": "ipython",
    "version": 3
   },
   "file_extension": ".py",
   "mimetype": "text/x-python",
   "name": "python",
   "nbconvert_exporter": "python",
   "pygments_lexer": "ipython3",
   "version": "3.5.3"
  }
 },
 "nbformat": 4,
 "nbformat_minor": 2
}
