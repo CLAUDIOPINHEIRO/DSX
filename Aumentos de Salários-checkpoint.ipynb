{
 "cells": [
  {
   "cell_type": "markdown",
   "metadata": {
    "deletable": true,
    "editable": true
   },
   "source": [
    "# Análise de aumentos de salários\n",
    "\n",
    "Sabemos que para conseguir as coisas no meio corporativo é necessário **saber negociar**.\n",
    "\n",
    "Recebemos uma base de dados com pedidos de aumentos feitos por homens e mulheres de uma empresa.\n",
    "A base mostra quanto foi solicitado e quanto foi recebido.\n",
    "\n",
    "**O objetivo deste estudo é entender as relações entre as variáveis que influenciam em\n",
    "um aumento de salário e criar um modelo que maximize as chances de obter o maior\n",
    "aumento possível**."
   ]
  },
  {
   "cell_type": "markdown",
   "metadata": {
    "deletable": true,
    "editable": true
   },
   "source": [
    "## Importação e medidas resumo\n",
    "\n",
    "Como de praxe, vamos começar importando a base csv em um dataset do `Pandas` e depois\n",
    "ver suas características básicas."
   ]
  },
  {
   "cell_type": "code",
   "execution_count": 209,
   "metadata": {
    "collapsed": true,
    "deletable": true,
    "editable": true
   },
   "outputs": [],
   "source": [
    "import matplotlib.pyplot as plt\n",
    "import seaborn as sns\n",
    "import pandas as pd\n",
    "import numpy as np\n",
    "%matplotlib inline"
   ]
  },
  {
   "cell_type": "code",
   "execution_count": 210,
   "metadata": {
    "collapsed": false,
    "deletable": true,
    "editable": true
   },
   "outputs": [
    {
     "data": {
      "text/html": [
       "<div>\n",
       "<table border=\"1\" class=\"dataframe\">\n",
       "  <thead>\n",
       "    <tr style=\"text-align: right;\">\n",
       "      <th></th>\n",
       "      <th>solicitado</th>\n",
       "      <th>recebido</th>\n",
       "      <th>negociado</th>\n",
       "      <th>sexo</th>\n",
       "      <th>ano</th>\n",
       "    </tr>\n",
       "  </thead>\n",
       "  <tbody>\n",
       "    <tr>\n",
       "      <th>0</th>\n",
       "      <td>12.1</td>\n",
       "      <td>9.5</td>\n",
       "      <td>True</td>\n",
       "      <td>M</td>\n",
       "      <td>2005</td>\n",
       "    </tr>\n",
       "    <tr>\n",
       "      <th>1</th>\n",
       "      <td>8.9</td>\n",
       "      <td>9.9</td>\n",
       "      <td>True</td>\n",
       "      <td>F</td>\n",
       "      <td>2006</td>\n",
       "    </tr>\n",
       "    <tr>\n",
       "      <th>2</th>\n",
       "      <td>8.8</td>\n",
       "      <td>18.1</td>\n",
       "      <td>True</td>\n",
       "      <td>M</td>\n",
       "      <td>2007</td>\n",
       "    </tr>\n",
       "    <tr>\n",
       "      <th>3</th>\n",
       "      <td>7.1</td>\n",
       "      <td>11.8</td>\n",
       "      <td>True</td>\n",
       "      <td>F</td>\n",
       "      <td>2008</td>\n",
       "    </tr>\n",
       "    <tr>\n",
       "      <th>4</th>\n",
       "      <td>10.2</td>\n",
       "      <td>12.5</td>\n",
       "      <td>True</td>\n",
       "      <td>M</td>\n",
       "      <td>2009</td>\n",
       "    </tr>\n",
       "    <tr>\n",
       "      <th>5</th>\n",
       "      <td>7.0</td>\n",
       "      <td>10.2</td>\n",
       "      <td>True</td>\n",
       "      <td>F</td>\n",
       "      <td>2005</td>\n",
       "    </tr>\n",
       "    <tr>\n",
       "      <th>6</th>\n",
       "      <td>15.1</td>\n",
       "      <td>9.3</td>\n",
       "      <td>True</td>\n",
       "      <td>M</td>\n",
       "      <td>2006</td>\n",
       "    </tr>\n",
       "    <tr>\n",
       "      <th>7</th>\n",
       "      <td>16.0</td>\n",
       "      <td>10.7</td>\n",
       "      <td>True</td>\n",
       "      <td>F</td>\n",
       "      <td>2007</td>\n",
       "    </tr>\n",
       "    <tr>\n",
       "      <th>8</th>\n",
       "      <td>8.2</td>\n",
       "      <td>11.4</td>\n",
       "      <td>True</td>\n",
       "      <td>M</td>\n",
       "      <td>2008</td>\n",
       "    </tr>\n",
       "    <tr>\n",
       "      <th>9</th>\n",
       "      <td>10.5</td>\n",
       "      <td>15.0</td>\n",
       "      <td>True</td>\n",
       "      <td>F</td>\n",
       "      <td>2009</td>\n",
       "    </tr>\n",
       "  </tbody>\n",
       "</table>\n",
       "</div>"
      ],
      "text/plain": [
       "   solicitado  recebido negociado sexo   ano\n",
       "0        12.1       9.5      True    M  2005\n",
       "1         8.9       9.9      True    F  2006\n",
       "2         8.8      18.1      True    M  2007\n",
       "3         7.1      11.8      True    F  2008\n",
       "4        10.2      12.5      True    M  2009\n",
       "5         7.0      10.2      True    F  2005\n",
       "6        15.1       9.3      True    M  2006\n",
       "7        16.0      10.7      True    F  2007\n",
       "8         8.2      11.4      True    M  2008\n",
       "9        10.5      15.0      True    F  2009"
      ]
     },
     "execution_count": 210,
     "metadata": {},
     "output_type": "execute_result"
    }
   ],
   "source": [
    "colunas = ['id', 'recebido', 'solicitado', 'negociado', 'sexo', 'ano']\n",
    "df = pd.read_csv('./aumentos.csv', sep=',', names=colunas, skiprows=1)\n",
    "df.drop('id', axis=1, inplace=True)\n",
    "df.head(n=10)"
   ]
  },
  {
   "cell_type": "code",
   "execution_count": 211,
   "metadata": {
    "collapsed": false,
    "deletable": true,
    "editable": true
   },
   "outputs": [
    {
     "data": {
      "text/html": [
       "<div>\n",
       "<table border=\"1\" class=\"dataframe\">\n",
       "  <thead>\n",
       "    <tr style=\"text-align: right;\">\n",
       "      <th></th>\n",
       "      <th>solicitado</th>\n",
       "      <th>recebido</th>\n",
       "      <th>ano</th>\n",
       "    </tr>\n",
       "  </thead>\n",
       "  <tbody>\n",
       "    <tr>\n",
       "      <th>count</th>\n",
       "      <td>3000.000000</td>\n",
       "      <td>3000.000000</td>\n",
       "      <td>3000.000000</td>\n",
       "    </tr>\n",
       "    <tr>\n",
       "      <th>mean</th>\n",
       "      <td>6.027867</td>\n",
       "      <td>2.659100</td>\n",
       "      <td>2007.000000</td>\n",
       "    </tr>\n",
       "    <tr>\n",
       "      <th>std</th>\n",
       "      <td>2.432138</td>\n",
       "      <td>4.099421</td>\n",
       "      <td>1.414449</td>\n",
       "    </tr>\n",
       "    <tr>\n",
       "      <th>min</th>\n",
       "      <td>-1.800000</td>\n",
       "      <td>0.000000</td>\n",
       "      <td>2005.000000</td>\n",
       "    </tr>\n",
       "    <tr>\n",
       "      <th>25%</th>\n",
       "      <td>4.600000</td>\n",
       "      <td>0.000000</td>\n",
       "      <td>2006.000000</td>\n",
       "    </tr>\n",
       "    <tr>\n",
       "      <th>50%</th>\n",
       "      <td>5.500000</td>\n",
       "      <td>0.000000</td>\n",
       "      <td>2007.000000</td>\n",
       "    </tr>\n",
       "    <tr>\n",
       "      <th>75%</th>\n",
       "      <td>6.700000</td>\n",
       "      <td>6.100000</td>\n",
       "      <td>2008.000000</td>\n",
       "    </tr>\n",
       "    <tr>\n",
       "      <th>max</th>\n",
       "      <td>25.900000</td>\n",
       "      <td>21.300000</td>\n",
       "      <td>2009.000000</td>\n",
       "    </tr>\n",
       "  </tbody>\n",
       "</table>\n",
       "</div>"
      ],
      "text/plain": [
       "        solicitado     recebido          ano\n",
       "count  3000.000000  3000.000000  3000.000000\n",
       "mean      6.027867     2.659100  2007.000000\n",
       "std       2.432138     4.099421     1.414449\n",
       "min      -1.800000     0.000000  2005.000000\n",
       "25%       4.600000     0.000000  2006.000000\n",
       "50%       5.500000     0.000000  2007.000000\n",
       "75%       6.700000     6.100000  2008.000000\n",
       "max      25.900000    21.300000  2009.000000"
      ]
     },
     "execution_count": 211,
     "metadata": {},
     "output_type": "execute_result"
    }
   ],
   "source": [
    "df.describe()"
   ]
  },
  {
   "cell_type": "markdown",
   "metadata": {
    "deletable": true,
    "editable": true
   },
   "source": [
    "Vamos agora traçar histogramas dos aumentos solicitados e recebidos para ver a distribuição destas variáveis\n",
    "separadamente. Em seguida, faremos um gráfico de dispersão com elas."
   ]
  },
  {
   "cell_type": "code",
   "execution_count": 212,
   "metadata": {
    "collapsed": false,
    "deletable": true,
    "editable": true,
    "scrolled": true
   },
   "outputs": [
    {
     "data": {
      "image/png": "[encoded data removed]",
      "text/plain": [
       "<matplotlib.figure.Figure at 0x7f442f9c8390>"
      ]
     },
     "metadata": {},
     "output_type": "display_data"
    }
   ],
   "source": [
    "plt.title(\"Valores Solicitados\")\n",
    "plt.hist(df.solicitado, bins=50)\n",
    "plt.show()"
   ]
  },
  {
   "cell_type": "code",
   "execution_count": 219,
   "metadata": {
    "collapsed": false,
    "deletable": true,
    "editable": true
   },
   "outputs": [
    {
     "data": {
      "image/png": "[encoded data removed]",
      "text/plain": [
       "<matplotlib.figure.Figure at 0x7f4427579588>"
      ]
     },
     "metadata": {},
     "output_type": "display_data"
    }
   ],
   "source": [
    "plt.title(\"Valores Recebidos\")\n",
    "plt.hist(df.recebido, bins=50)\n",
    "plt.show()"
   ]
  },
  {
   "cell_type": "code",
   "execution_count": 220,
   "metadata": {
    "collapsed": false,
    "deletable": true,
    "editable": true
   },
   "outputs": [
    {
     "data": {
      "image/png": "[encoded data removed]",
      "text/plain": [
       "<matplotlib.figure.Figure at 0x7f442fa0f828>"
      ]
     },
     "metadata": {},
     "output_type": "display_data"
    }
   ],
   "source": [
    "plt.title(\"Valores Recebidos Maiores que Zero\")\n",
    "plt.hist(df[df.recebido > 0]['recebido'], bins=50)\n",
    "plt.show()"
   ]
  },
  {
   "cell_type": "code",
   "execution_count": 221,
   "metadata": {
    "collapsed": false,
    "deletable": true,
    "editable": true
   },
   "outputs": [
    {
     "data": {
      "image/png": "[encoded data removed]",
      "text/plain": [
       "<matplotlib.figure.Figure at 0x7f4427574e48>"
      ]
     },
     "metadata": {},
     "output_type": "display_data"
    }
   ],
   "source": [
    "plt.title(\"Valores Solicitados versus Recebidos\")\n",
    "plt.scatter(data=df, x='solicitado', y='recebido')\n",
    "plt.show()"
   ]
  },
  {
   "cell_type": "code",
   "execution_count": 222,
   "metadata": {
    "collapsed": false,
    "deletable": true,
    "editable": true
   },
   "outputs": [
    {
     "data": {
      "image/png": "[encoded data removed]",
      "text/plain": [
       "<matplotlib.figure.Figure at 0x7f442f9b3400>"
      ]
     },
     "metadata": {},
     "output_type": "display_data"
    }
   ],
   "source": [
    "plt.title(\"Valores Solicitados versus Recebidos maiores que zero\")\n",
    "plt.scatter(data=df[df.recebido > 0], x='solicitado', y='recebido')\n",
    "plt.show()"
   ]
  },
  {
   "cell_type": "markdown",
   "metadata": {
    "deletable": true,
    "editable": true
   },
   "source": [
    "### Interpretações Iniciais\n",
    "\n",
    "Apenas olhando os histogramas e as medidas resumo, como primeiro e segundo quartis e mediana, fica claro concluir que a grande maioria das pessoas que pediu aumento não foi atendida.\n",
    "\n",
    "Apesar da dispersão dos dados, há uma grande concentração crescente que, ao menos observando o gráfico de dispersão, parece linear."
   ]
  },
  {
   "cell_type": "markdown",
   "metadata": {
    "deletable": true,
    "editable": true
   },
   "source": [
    "## Correlações entre variáveis\n",
    "\n",
    "Será que o sexo tem alguma relação com os aumentos conseguidos? E o ano? E o próprio valor solicitado?\n",
    "\n",
    "Para responder a esta pergunta, temos que ter em mente duas medidas: o aumento real recebido (que já possuímos na colona `recebido`) e a relação entre aumento recebido e solicitado. Vamos chamar essa segunda coluna de `sucesso`."
   ]
  },
  {
   "cell_type": "code",
   "execution_count": 215,
   "metadata": {
    "collapsed": false,
    "deletable": true,
    "editable": true
   },
   "outputs": [],
   "source": [
    "sucesso = df.recebido / df.solicitado  # Cuidado com divisao por zero!\n",
    "sucesso[np.isinf(sucesso)] = 0\n",
    "df['sucesso'] = sucesso"
   ]
  },
  {
   "cell_type": "code",
   "execution_count": 216,
   "metadata": {
    "collapsed": false,
    "deletable": true,
    "editable": true
   },
   "outputs": [
    {
     "data": {
      "text/html": [
       "<div>\n",
       "<table border=\"1\" class=\"dataframe\">\n",
       "  <thead>\n",
       "    <tr style=\"text-align: right;\">\n",
       "      <th></th>\n",
       "      <th>solicitado</th>\n",
       "      <th>recebido</th>\n",
       "      <th>negociado</th>\n",
       "      <th>ano</th>\n",
       "      <th>sucesso</th>\n",
       "    </tr>\n",
       "    <tr>\n",
       "      <th>sexo</th>\n",
       "      <th></th>\n",
       "      <th></th>\n",
       "      <th></th>\n",
       "      <th></th>\n",
       "      <th></th>\n",
       "    </tr>\n",
       "  </thead>\n",
       "  <tbody>\n",
       "    <tr>\n",
       "      <th>F</th>\n",
       "      <td>9054.7</td>\n",
       "      <td>4000.7</td>\n",
       "      <td>500.0</td>\n",
       "      <td>3010500</td>\n",
       "      <td>519.404413</td>\n",
       "    </tr>\n",
       "    <tr>\n",
       "      <th>M</th>\n",
       "      <td>9028.9</td>\n",
       "      <td>3976.6</td>\n",
       "      <td>500.0</td>\n",
       "      <td>3010500</td>\n",
       "      <td>504.808380</td>\n",
       "    </tr>\n",
       "  </tbody>\n",
       "</table>\n",
       "</div>"
      ],
      "text/plain": [
       "      solicitado  recebido  negociado      ano     sucesso\n",
       "sexo                                                      \n",
       "F         9054.7    4000.7      500.0  3010500  519.404413\n",
       "M         9028.9    3976.6      500.0  3010500  504.808380"
      ]
     },
     "execution_count": 216,
     "metadata": {},
     "output_type": "execute_result"
    }
   ],
   "source": [
    "df_sexo = df.groupby('sexo').sum()\n",
    "df_sexo"
   ]
  },
  {
   "cell_type": "code",
   "execution_count": 231,
   "metadata": {
    "collapsed": false,
    "deletable": true,
    "editable": true
   },
   "outputs": [
    {
     "data": {
      "text/plain": [
       "1500"
      ]
     },
     "execution_count": 231,
     "metadata": {},
     "output_type": "execute_result"
    }
   ],
   "source": [
    "homens = df[df.sexo == 'M']\n",
    "homens['sexo'].count()"
   ]
  },
  {
   "cell_type": "code",
   "execution_count": 233,
   "metadata": {
    "collapsed": false,
    "deletable": true,
    "editable": true
   },
   "outputs": [
    {
     "data": {
      "text/plain": [
       "1500"
      ]
     },
     "execution_count": 233,
     "metadata": {},
     "output_type": "execute_result"
    }
   ],
   "source": [
    "mulheres = df[df.sexo == 'F']\n",
    "mulheres['sexo'].count()"
   ]
  },
  {
   "cell_type": "markdown",
   "metadata": {
    "deletable": true,
    "editable": true
   },
   "source": [
    "Criamos a nova coluna, e percebemos que temos a mesma quantidade de pedidos de aumento feitos por homens e mulheres.\n",
    "Vamos olhar agora os quoeficientes de sucesso entre cada sexo. Faremos isso analisando a quantidade de pedidos com\n",
    "quoeficiente maior ou igual a 1."
   ]
  },
  {
   "cell_type": "code",
   "execution_count": 243,
   "metadata": {
    "collapsed": false,
    "deletable": true,
    "editable": true
   },
   "outputs": [
    {
     "name": "stdout",
     "output_type": "stream",
     "text": [
      "377 174 36 22\n"
     ]
    }
   ],
   "source": [
    "print(homens['sucesso'][df.sucesso >= 0.9].count(),\n",
    "    homens['sucesso'][df.sucesso >= 1].count(),\n",
    "    homens['sucesso'][df.sucesso >= 1.2].count(),\n",
    "    homens['sucesso'][df.sucesso >= 1.5].count())"
   ]
  },
  {
   "cell_type": "code",
   "execution_count": 245,
   "metadata": {
    "collapsed": false,
    "deletable": true,
    "editable": true
   },
   "outputs": [
    {
     "name": "stdout",
     "output_type": "stream",
     "text": [
      "380 177 42 24\n"
     ]
    }
   ],
   "source": [
    "print(mulheres['sucesso'][df.sucesso >= 0.9].count(),\n",
    "    mulheres['sucesso'][df.sucesso >= 1].count(),\n",
    "    mulheres['sucesso'][df.sucesso >= 1.2].count(),\n",
    "    mulheres['sucesso'][df.sucesso >= 1.5].count())"
   ]
  },
  {
   "cell_type": "markdown",
   "metadata": {
    "deletable": true,
    "editable": true
   },
   "source": [
    "Podemos perceber que as mulheres, em geral, se saem melhor no momento de pedir os aumentos."
   ]
  },
  {
   "cell_type": "code",
   "execution_count": 260,
   "metadata": {
    "collapsed": false,
    "scrolled": true
   },
   "outputs": [
    {
     "data": {
      "text/html": [
       "<div>\n",
       "<table border=\"1\" class=\"dataframe\">\n",
       "  <thead>\n",
       "    <tr style=\"text-align: right;\">\n",
       "      <th></th>\n",
       "      <th>solicitado</th>\n",
       "      <th>recebido</th>\n",
       "      <th>ano</th>\n",
       "      <th>sucesso</th>\n",
       "    </tr>\n",
       "  </thead>\n",
       "  <tbody>\n",
       "    <tr>\n",
       "      <th>count</th>\n",
       "      <td>1500.000000</td>\n",
       "      <td>1500.000000</td>\n",
       "      <td>1500.000000</td>\n",
       "      <td>1500.000000</td>\n",
       "    </tr>\n",
       "    <tr>\n",
       "      <th>mean</th>\n",
       "      <td>6.036467</td>\n",
       "      <td>2.667133</td>\n",
       "      <td>2007.000000</td>\n",
       "      <td>0.346270</td>\n",
       "    </tr>\n",
       "    <tr>\n",
       "      <th>std</th>\n",
       "      <td>2.375595</td>\n",
       "      <td>4.080230</td>\n",
       "      <td>1.414685</td>\n",
       "      <td>0.689288</td>\n",
       "    </tr>\n",
       "    <tr>\n",
       "      <th>min</th>\n",
       "      <td>-1.800000</td>\n",
       "      <td>0.000000</td>\n",
       "      <td>2005.000000</td>\n",
       "      <td>-6.444444</td>\n",
       "    </tr>\n",
       "    <tr>\n",
       "      <th>25%</th>\n",
       "      <td>4.600000</td>\n",
       "      <td>0.000000</td>\n",
       "      <td>2006.000000</td>\n",
       "      <td>0.000000</td>\n",
       "    </tr>\n",
       "    <tr>\n",
       "      <th>50%</th>\n",
       "      <td>5.500000</td>\n",
       "      <td>0.000000</td>\n",
       "      <td>2007.000000</td>\n",
       "      <td>0.000000</td>\n",
       "    </tr>\n",
       "    <tr>\n",
       "      <th>75%</th>\n",
       "      <td>6.700000</td>\n",
       "      <td>6.200000</td>\n",
       "      <td>2008.000000</td>\n",
       "      <td>0.903912</td>\n",
       "    </tr>\n",
       "    <tr>\n",
       "      <th>max</th>\n",
       "      <td>25.900000</td>\n",
       "      <td>18.900000</td>\n",
       "      <td>2009.000000</td>\n",
       "      <td>15.857143</td>\n",
       "    </tr>\n",
       "  </tbody>\n",
       "</table>\n",
       "</div>"
      ],
      "text/plain": [
       "        solicitado     recebido          ano      sucesso\n",
       "count  1500.000000  1500.000000  1500.000000  1500.000000\n",
       "mean      6.036467     2.667133  2007.000000     0.346270\n",
       "std       2.375595     4.080230     1.414685     0.689288\n",
       "min      -1.800000     0.000000  2005.000000    -6.444444\n",
       "25%       4.600000     0.000000  2006.000000     0.000000\n",
       "50%       5.500000     0.000000  2007.000000     0.000000\n",
       "75%       6.700000     6.200000  2008.000000     0.903912\n",
       "max      25.900000    18.900000  2009.000000    15.857143"
      ]
     },
     "execution_count": 260,
     "metadata": {},
     "output_type": "execute_result"
    }
   ],
   "source": [
    "mulheres.describe()"
   ]
  },
  {
   "cell_type": "code",
   "execution_count": 261,
   "metadata": {
    "collapsed": false,
    "scrolled": true
   },
   "outputs": [
    {
     "data": {
      "text/html": [
       "<div>\n",
       "<table border=\"1\" class=\"dataframe\">\n",
       "  <thead>\n",
       "    <tr style=\"text-align: right;\">\n",
       "      <th></th>\n",
       "      <th>solicitado</th>\n",
       "      <th>recebido</th>\n",
       "      <th>ano</th>\n",
       "      <th>sucesso</th>\n",
       "    </tr>\n",
       "  </thead>\n",
       "  <tbody>\n",
       "    <tr>\n",
       "      <th>count</th>\n",
       "      <td>1500.000000</td>\n",
       "      <td>1500.000000</td>\n",
       "      <td>1500.000000</td>\n",
       "      <td>1500.000000</td>\n",
       "    </tr>\n",
       "    <tr>\n",
       "      <th>mean</th>\n",
       "      <td>6.019267</td>\n",
       "      <td>2.651067</td>\n",
       "      <td>2007.000000</td>\n",
       "      <td>0.336539</td>\n",
       "    </tr>\n",
       "    <tr>\n",
       "      <th>std</th>\n",
       "      <td>2.488159</td>\n",
       "      <td>4.119867</td>\n",
       "      <td>1.414685</td>\n",
       "      <td>0.514210</td>\n",
       "    </tr>\n",
       "    <tr>\n",
       "      <th>min</th>\n",
       "      <td>0.000000</td>\n",
       "      <td>0.000000</td>\n",
       "      <td>2005.000000</td>\n",
       "      <td>0.000000</td>\n",
       "    </tr>\n",
       "    <tr>\n",
       "      <th>25%</th>\n",
       "      <td>4.600000</td>\n",
       "      <td>0.000000</td>\n",
       "      <td>2006.000000</td>\n",
       "      <td>0.000000</td>\n",
       "    </tr>\n",
       "    <tr>\n",
       "      <th>50%</th>\n",
       "      <td>5.500000</td>\n",
       "      <td>0.000000</td>\n",
       "      <td>2007.000000</td>\n",
       "      <td>0.000000</td>\n",
       "    </tr>\n",
       "    <tr>\n",
       "      <th>75%</th>\n",
       "      <td>6.600000</td>\n",
       "      <td>6.100000</td>\n",
       "      <td>2008.000000</td>\n",
       "      <td>0.900000</td>\n",
       "    </tr>\n",
       "    <tr>\n",
       "      <th>max</th>\n",
       "      <td>22.700000</td>\n",
       "      <td>21.300000</td>\n",
       "      <td>2009.000000</td>\n",
       "      <td>5.071429</td>\n",
       "    </tr>\n",
       "  </tbody>\n",
       "</table>\n",
       "</div>"
      ],
      "text/plain": [
       "        solicitado     recebido          ano      sucesso\n",
       "count  1500.000000  1500.000000  1500.000000  1500.000000\n",
       "mean      6.019267     2.651067  2007.000000     0.336539\n",
       "std       2.488159     4.119867     1.414685     0.514210\n",
       "min       0.000000     0.000000  2005.000000     0.000000\n",
       "25%       4.600000     0.000000  2006.000000     0.000000\n",
       "50%       5.500000     0.000000  2007.000000     0.000000\n",
       "75%       6.600000     6.100000  2008.000000     0.900000\n",
       "max      22.700000    21.300000  2009.000000     5.071429"
      ]
     },
     "execution_count": 261,
     "metadata": {},
     "output_type": "execute_result"
    }
   ],
   "source": [
    "homens.describe()"
   ]
  },
  {
   "cell_type": "code",
   "execution_count": null,
   "metadata": {
    "collapsed": false
   },
   "outputs": [],
   "source": []
  }
 ],
 "metadata": {
  "kernelspec": {
   "display_name": "Python 3",
   "language": "python",
   "name": "python3"
  },
  "language_info": {
   "codemirror_mode": {
    "name": "ipython",
    "version": 3
   },
   "file_extension": ".py",
   "mimetype": "text/x-python",
   "name": "python",
   "nbconvert_exporter": "python",
   "pygments_lexer": "ipython3",
   "version": "3.5.3"
  }
 },
 "nbformat": 4,
 "nbformat_minor": 2
}
